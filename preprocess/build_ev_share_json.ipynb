{
 "cells": [
  {
   "cell_type": "markdown",
   "id": "97bd3b4a",
   "metadata": {},
   "source": [
    "Notebook used to preprocess the `EV Share Dataset` and get a JSON in the format:\n",
    "\n",
    "```json\n",
    "{\n",
    "    \"Country\": {\n",
    "        \"Year\": Share,\n",
    "        \"Year\": Share,\n",
    "        ...\n",
    "    },\n",
    "    ...\n",
    "}\n",
    "```\n",
    "\n",
    "For more information about the data see:\n",
    "> Hannah Ritchie (2024) - “Tracking global data on electric vehicles” <br>\n",
    "> Published online at OurWorldinData.org. <br>\n",
    "> Retrieved from: 'https://ourworldindata.org/electric-car-sales' [Online Resource]"
   ]
  },
  {
   "cell_type": "code",
   "execution_count": null,
   "id": "55061d31",
   "metadata": {},
   "outputs": [],
   "source": [
    "%load_ext autoreload\n",
    "%autoreload 2"
   ]
  },
  {
   "cell_type": "code",
   "execution_count": 2,
   "id": "6c0134e1",
   "metadata": {},
   "outputs": [],
   "source": [
    "import json\n",
    "import pandas as pd"
   ]
  },
  {
   "cell_type": "code",
   "execution_count": 3,
   "id": "2722424f",
   "metadata": {},
   "outputs": [
    {
     "data": {
      "application/vnd.microsoft.datawrangler.viewer.v0+json": {
       "columns": [
        {
         "name": "index",
         "rawType": "int64",
         "type": "integer"
        },
        {
         "name": "Entity",
         "rawType": "object",
         "type": "string"
        },
        {
         "name": "Code",
         "rawType": "object",
         "type": "string"
        },
        {
         "name": "Year",
         "rawType": "int64",
         "type": "integer"
        },
        {
         "name": "Share of new cars that are electric",
         "rawType": "float64",
         "type": "float"
        }
       ],
       "ref": "0084de88-04c1-4e00-a302-fd551dd931b3",
       "rows": [
        [
         "0",
         "Australia",
         "AUS",
         "2011",
         "0.0061"
        ],
        [
         "1",
         "Australia",
         "AUS",
         "2012",
         "0.029"
        ],
        [
         "2",
         "Australia",
         "AUS",
         "2013",
         "0.033"
        ],
        [
         "3",
         "Australia",
         "AUS",
         "2014",
         "0.15"
        ],
        [
         "4",
         "Australia",
         "AUS",
         "2015",
         "0.19"
        ]
       ],
       "shape": {
        "columns": 4,
        "rows": 5
       }
      },
      "text/html": [
       "<div>\n",
       "<style scoped>\n",
       "    .dataframe tbody tr th:only-of-type {\n",
       "        vertical-align: middle;\n",
       "    }\n",
       "\n",
       "    .dataframe tbody tr th {\n",
       "        vertical-align: top;\n",
       "    }\n",
       "\n",
       "    .dataframe thead th {\n",
       "        text-align: right;\n",
       "    }\n",
       "</style>\n",
       "<table border=\"1\" class=\"dataframe\">\n",
       "  <thead>\n",
       "    <tr style=\"text-align: right;\">\n",
       "      <th></th>\n",
       "      <th>Entity</th>\n",
       "      <th>Code</th>\n",
       "      <th>Year</th>\n",
       "      <th>Share of new cars that are electric</th>\n",
       "    </tr>\n",
       "  </thead>\n",
       "  <tbody>\n",
       "    <tr>\n",
       "      <th>0</th>\n",
       "      <td>Australia</td>\n",
       "      <td>AUS</td>\n",
       "      <td>2011</td>\n",
       "      <td>0.0061</td>\n",
       "    </tr>\n",
       "    <tr>\n",
       "      <th>1</th>\n",
       "      <td>Australia</td>\n",
       "      <td>AUS</td>\n",
       "      <td>2012</td>\n",
       "      <td>0.0290</td>\n",
       "    </tr>\n",
       "    <tr>\n",
       "      <th>2</th>\n",
       "      <td>Australia</td>\n",
       "      <td>AUS</td>\n",
       "      <td>2013</td>\n",
       "      <td>0.0330</td>\n",
       "    </tr>\n",
       "    <tr>\n",
       "      <th>3</th>\n",
       "      <td>Australia</td>\n",
       "      <td>AUS</td>\n",
       "      <td>2014</td>\n",
       "      <td>0.1500</td>\n",
       "    </tr>\n",
       "    <tr>\n",
       "      <th>4</th>\n",
       "      <td>Australia</td>\n",
       "      <td>AUS</td>\n",
       "      <td>2015</td>\n",
       "      <td>0.1900</td>\n",
       "    </tr>\n",
       "  </tbody>\n",
       "</table>\n",
       "</div>"
      ],
      "text/plain": [
       "      Entity Code  Year  Share of new cars that are electric\n",
       "0  Australia  AUS  2011                               0.0061\n",
       "1  Australia  AUS  2012                               0.0290\n",
       "2  Australia  AUS  2013                               0.0330\n",
       "3  Australia  AUS  2014                               0.1500\n",
       "4  Australia  AUS  2015                               0.1900"
      ]
     },
     "execution_count": 3,
     "metadata": {},
     "output_type": "execute_result"
    }
   ],
   "source": [
    "electric_car_share = pd.read_csv(\"~/Downloads/electric-car-sales-share/electric-car-sales-share.csv\", sep=\",\")\n",
    "electric_car_share.head()"
   ]
  },
  {
   "cell_type": "code",
   "execution_count": 4,
   "id": "3dad9567",
   "metadata": {},
   "outputs": [
    {
     "data": {
      "text/plain": [
       "array(['Australia', 'Austria', 'Belgium', 'Brazil', 'Canada', 'Chile',\n",
       "       'China', 'Denmark', 'Europe', 'European Union (27)', 'Finland',\n",
       "       'France', 'Germany', 'Greece', 'Iceland', 'India', 'Israel',\n",
       "       'Italy', 'Japan', 'Mexico', 'Netherlands', 'New Zealand', 'Norway',\n",
       "       'Poland', 'Portugal', 'Rest of World', 'South Korea', 'Spain',\n",
       "       'Sweden', 'Switzerland', 'Turkey', 'United Kingdom',\n",
       "       'United States', 'World'], dtype=object)"
      ]
     },
     "execution_count": 4,
     "metadata": {},
     "output_type": "execute_result"
    }
   ],
   "source": [
    "electric_car_share[\"Entity\"].unique()"
   ]
  },
  {
   "cell_type": "code",
   "execution_count": 6,
   "id": "c351db54",
   "metadata": {},
   "outputs": [
    {
     "data": {
      "application/vnd.microsoft.datawrangler.viewer.v0+json": {
       "columns": [
        {
         "name": "index",
         "rawType": "int64",
         "type": "integer"
        },
        {
         "name": "Country",
         "rawType": "object",
         "type": "string"
        },
        {
         "name": "Year",
         "rawType": "int64",
         "type": "integer"
        },
        {
         "name": "Share",
         "rawType": "float64",
         "type": "float"
        }
       ],
       "ref": "ae993bc9-bf41-40e2-a27d-e66266b17653",
       "rows": [
        [
         "14",
         "Austria",
         "2013",
         "0.2"
        ],
        [
         "15",
         "Austria",
         "2014",
         "0.57"
        ],
        [
         "16",
         "Austria",
         "2015",
         "0.9"
        ],
        [
         "17",
         "Austria",
         "2016",
         "1.5"
        ],
        [
         "18",
         "Austria",
         "2017",
         "2.0"
        ]
       ],
       "shape": {
        "columns": 3,
        "rows": 5
       }
      },
      "text/html": [
       "<div>\n",
       "<style scoped>\n",
       "    .dataframe tbody tr th:only-of-type {\n",
       "        vertical-align: middle;\n",
       "    }\n",
       "\n",
       "    .dataframe tbody tr th {\n",
       "        vertical-align: top;\n",
       "    }\n",
       "\n",
       "    .dataframe thead th {\n",
       "        text-align: right;\n",
       "    }\n",
       "</style>\n",
       "<table border=\"1\" class=\"dataframe\">\n",
       "  <thead>\n",
       "    <tr style=\"text-align: right;\">\n",
       "      <th></th>\n",
       "      <th>Country</th>\n",
       "      <th>Year</th>\n",
       "      <th>Share</th>\n",
       "    </tr>\n",
       "  </thead>\n",
       "  <tbody>\n",
       "    <tr>\n",
       "      <th>14</th>\n",
       "      <td>Austria</td>\n",
       "      <td>2013</td>\n",
       "      <td>0.20</td>\n",
       "    </tr>\n",
       "    <tr>\n",
       "      <th>15</th>\n",
       "      <td>Austria</td>\n",
       "      <td>2014</td>\n",
       "      <td>0.57</td>\n",
       "    </tr>\n",
       "    <tr>\n",
       "      <th>16</th>\n",
       "      <td>Austria</td>\n",
       "      <td>2015</td>\n",
       "      <td>0.90</td>\n",
       "    </tr>\n",
       "    <tr>\n",
       "      <th>17</th>\n",
       "      <td>Austria</td>\n",
       "      <td>2016</td>\n",
       "      <td>1.50</td>\n",
       "    </tr>\n",
       "    <tr>\n",
       "      <th>18</th>\n",
       "      <td>Austria</td>\n",
       "      <td>2017</td>\n",
       "      <td>2.00</td>\n",
       "    </tr>\n",
       "  </tbody>\n",
       "</table>\n",
       "</div>"
      ],
      "text/plain": [
       "    Country  Year  Share\n",
       "14  Austria  2013   0.20\n",
       "15  Austria  2014   0.57\n",
       "16  Austria  2015   0.90\n",
       "17  Austria  2016   1.50\n",
       "18  Austria  2017   2.00"
      ]
     },
     "metadata": {},
     "output_type": "display_data"
    }
   ],
   "source": [
    "subset = [\n",
    "    \"Austria\",\n",
    "    \"Belgium\",\n",
    "    \"Denmark\",\n",
    "    \"Finland\",\n",
    "    \"France\",\n",
    "    \"Germany\",\n",
    "    \"Greece\",\n",
    "    \"Italy\",\n",
    "    \"Netherlands\",\n",
    "    \"Norway\",\n",
    "    \"Portugal\",\n",
    "    \"Poland\",\n",
    "    \"Spain\",\n",
    "    \"Sweden\",\n",
    "    \"Switzerland\",\n",
    "    \"United Kingdom\",\n",
    "    \"Europe\",\n",
    "]\n",
    "\n",
    "df_electric = electric_car_share[electric_car_share[\"Entity\"].isin(subset)]\n",
    "df_electric = df_electric.drop(columns=[\"Code\"])\n",
    "df_electric = df_electric.rename(columns={\"Share of new cars that are electric\": \"Share\", \"Entity\": \"Country\"})\n",
    "display(df_electric.head())"
   ]
  },
  {
   "cell_type": "code",
   "execution_count": 8,
   "id": "44b44dfe",
   "metadata": {},
   "outputs": [],
   "source": [
    "transformed = {}\n",
    "\n",
    "for _, row in df_electric.iterrows():\n",
    "    year = str(row[\"Year\"])\n",
    "    country = row[\"Country\"]\n",
    "    share = row[\"Share\"]\n",
    "    \n",
    "    if country not in transformed:\n",
    "        transformed[country] = {}\n",
    "    transformed[country][year] = share\n",
    "\n",
    "with open(\"../data/ev/electric_car_share.json\", \"w\") as f:\n",
    "    json.dump(transformed, f, indent=2)"
   ]
  }
 ],
 "metadata": {
  "kernelspec": {
   "display_name": "dataviz",
   "language": "python",
   "name": "python3"
  },
  "language_info": {
   "codemirror_mode": {
    "name": "ipython",
    "version": 3
   },
   "file_extension": ".py",
   "mimetype": "text/x-python",
   "name": "python",
   "nbconvert_exporter": "python",
   "pygments_lexer": "ipython3",
   "version": "3.13.2"
  }
 },
 "nbformat": 4,
 "nbformat_minor": 5
}
