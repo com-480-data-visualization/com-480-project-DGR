{
 "cells": [
  {
   "cell_type": "markdown",
   "metadata": {},
   "source": [
    "Notebook used to transform the `Air Quality` dataset to a single JSON file\n",
    "suitable for a web application.\n",
    "\n",
    "\n",
    "The JSON File has the following structure:\n",
    "\n",
    "```json\n",
    "{\n",
    "    \"Year\": {\n",
    "        \"Pollutant\": [\n",
    "            {\n",
    "                \"Paese\": \"Country Name\",\n",
    "                \"Concentrazione\": \"Value\"\n",
    "            }\n",
    "        ]\n",
    "    },\n",
    "    ...\n",
    "}\n",
    "```"
   ]
  },
  {
   "cell_type": "code",
   "execution_count": 1,
   "metadata": {},
   "outputs": [],
   "source": [
    "%load_ext autoreload\n",
    "%autoreload 2"
   ]
  },
  {
   "cell_type": "code",
   "execution_count": null,
   "metadata": {},
   "outputs": [],
   "source": [
    "import json\n",
    "import airbase\n",
    "import pandas as pd"
   ]
  },
  {
   "cell_type": "code",
   "execution_count": 43,
   "metadata": {},
   "outputs": [],
   "source": [
    "country_code_to_name = {\n",
    "    'SI': 'Slovenia',\n",
    "    'DE': 'Germany',\n",
    "    'IS': 'Iceland',\n",
    "    'XK': 'Kosovo',\n",
    "    'CH': 'Switzerland',\n",
    "    'AT': 'Austria',\n",
    "    'DK': 'Denmark',\n",
    "    'AL': 'Albania',\n",
    "    'HR': 'Croatia',\n",
    "    'LU': 'Luxembourg',\n",
    "    'SK': 'Slovakia',\n",
    "    'PL': 'Poland',\n",
    "    'GB': 'United Kingdom',\n",
    "    'IE': 'Ireland',\n",
    "    'BA': 'Bosnia and Herzegovina',\n",
    "    'BE': 'Belgium',\n",
    "    'TR': 'Turkey',\n",
    "    'LT': 'Lithuania',\n",
    "    'IT': 'Italy',\n",
    "    'ES': 'Spain',\n",
    "    'MT': 'Malta',\n",
    "    'RO': 'Romania',\n",
    "    'BG': 'Bulgaria',\n",
    "    'RS': 'Serbia',\n",
    "    'NL': 'Netherlands',\n",
    "    'CZ': 'Czech Republic',\n",
    "    'PT': 'Portugal',\n",
    "    'MK': 'North Macedonia',\n",
    "    'SE': 'Sweden',\n",
    "    'ME': 'Montenegro',\n",
    "    'FR': 'France',\n",
    "    'NO': 'Norway',\n",
    "    'LV': 'Latvia',\n",
    "    'AD': 'Andorra',\n",
    "    'CY': 'Cyprus',\n",
    "    'HU': 'Hungary',\n",
    "    'GR': 'Greece',\n",
    "    'EE': 'Estonia',\n",
    "    'FI': 'Finland',\n",
    "}"
   ]
  },
  {
   "cell_type": "code",
   "execution_count": 4,
   "metadata": {},
   "outputs": [],
   "source": [
    "DATA_PATH = '../data/air_quality/'"
   ]
  },
  {
   "cell_type": "code",
   "execution_count": null,
   "metadata": {},
   "outputs": [
    {
     "name": "stderr",
     "output_type": "stream",
     "text": [
      "  0%|          | 0/39 [00:00<?, ?it/s]"
     ]
    },
    {
     "name": "stdout",
     "output_type": "stream",
     "text": [
      "Converting data for SI\n",
      "Converting data for DE\n"
     ]
    },
    {
     "name": "stderr",
     "output_type": "stream",
     "text": [
      "  5%|▌         | 2/39 [00:00<00:16,  2.26it/s]"
     ]
    },
    {
     "name": "stdout",
     "output_type": "stream",
     "text": [
      "Converting data for IS\n",
      "Converting data for XK\n",
      "Converting data for CH\n",
      "Converting data for AT\n"
     ]
    },
    {
     "name": "stderr",
     "output_type": "stream",
     "text": [
      " 28%|██▊       | 11/39 [00:01<00:02, 11.08it/s]"
     ]
    },
    {
     "name": "stdout",
     "output_type": "stream",
     "text": [
      "Converting data for DK\n",
      "Converting data for AL\n",
      "Converting data for HR\n",
      "Converting data for LU\n",
      "Converting data for SK\n",
      "Converting data for PL\n"
     ]
    },
    {
     "name": "stderr",
     "output_type": "stream",
     "text": [
      " 36%|███▌      | 14/39 [00:01<00:02,  9.19it/s]"
     ]
    },
    {
     "name": "stdout",
     "output_type": "stream",
     "text": [
      "Converting data for GB\n",
      "Converting data for IE\n",
      "Converting data for BA\n",
      "Converting data for BE\n"
     ]
    },
    {
     "name": "stderr",
     "output_type": "stream",
     "text": [
      " 41%|████      | 16/39 [00:01<00:02, 10.10it/s]"
     ]
    },
    {
     "name": "stdout",
     "output_type": "stream",
     "text": [
      "Converting data for TR\n"
     ]
    },
    {
     "name": "stderr",
     "output_type": "stream",
     "text": [
      " 46%|████▌     | 18/39 [00:02<00:02,  9.45it/s]"
     ]
    },
    {
     "name": "stdout",
     "output_type": "stream",
     "text": [
      "Converting data for LT\n",
      "Converting data for IT\n",
      "Converting data for ES\n"
     ]
    },
    {
     "name": "stderr",
     "output_type": "stream",
     "text": [
      " 56%|█████▋    | 22/39 [00:04<00:04,  3.93it/s]"
     ]
    },
    {
     "name": "stdout",
     "output_type": "stream",
     "text": [
      "Converting data for MT\n",
      "Converting data for RO\n",
      "Converting data for BG\n"
     ]
    },
    {
     "name": "stderr",
     "output_type": "stream",
     "text": [
      " 64%|██████▍   | 25/39 [00:04<00:02,  5.53it/s]"
     ]
    },
    {
     "name": "stdout",
     "output_type": "stream",
     "text": [
      "Converting data for RS\n",
      "Converting data for NL\n",
      "Converting data for CZ\n"
     ]
    },
    {
     "name": "stderr",
     "output_type": "stream",
     "text": [
      " 69%|██████▉   | 27/39 [00:04<00:02,  5.93it/s]"
     ]
    },
    {
     "name": "stdout",
     "output_type": "stream",
     "text": [
      "Converting data for PT\n",
      "Converting data for MK\n",
      "Converting data for SE\n",
      "Converting data for ME\n"
     ]
    },
    {
     "name": "stderr",
     "output_type": "stream",
     "text": [
      " 77%|███████▋  | 30/39 [00:04<00:01,  8.28it/s]"
     ]
    },
    {
     "name": "stdout",
     "output_type": "stream",
     "text": [
      "Converting data for FR\n"
     ]
    },
    {
     "name": "stderr",
     "output_type": "stream",
     "text": [
      " 95%|█████████▍| 37/39 [00:05<00:00,  9.69it/s]"
     ]
    },
    {
     "name": "stdout",
     "output_type": "stream",
     "text": [
      "Converting data for NO\n",
      "Converting data for LV\n",
      "Converting data for AD\n",
      "Converting data for CY\n",
      "Converting data for HU\n",
      "Converting data for GR\n",
      "Converting data for EE\n",
      "Converting data for FI\n"
     ]
    },
    {
     "name": "stderr",
     "output_type": "stream",
     "text": [
      "100%|██████████| 39/39 [00:05<00:00,  7.01it/s]\n"
     ]
    }
   ],
   "source": [
    "from tqdm import tqdm\n",
    "\n",
    "client = airbase.AirbaseClient()\n",
    "countries = client.countries\n",
    "\n",
    "for country in tqdm(countries):\n",
    "    print(f\"Converting data for {country}\")\n",
    "    df = pd.read_csv(f\"../data/aggregated_air_quality_monthly/{country}.csv\", sep=\",\", low_memory=False)\n",
    "    df.to_json(f\"../data/aggregated_air_quality_monthly_json/{country}.json\", orient='records', lines=True)"
   ]
  },
  {
   "cell_type": "code",
   "execution_count": null,
   "metadata": {},
   "outputs": [
    {
     "name": "stderr",
     "output_type": "stream",
     "text": [
      "  0%|          | 0/39 [00:00<?, ?it/s]"
     ]
    },
    {
     "name": "stdout",
     "output_type": "stream",
     "text": [
      "Converting data for SI\n",
      "Converting data for DE\n"
     ]
    },
    {
     "name": "stderr",
     "output_type": "stream",
     "text": [
      " 15%|█▌        | 6/39 [00:00<00:02, 12.79it/s]"
     ]
    },
    {
     "name": "stdout",
     "output_type": "stream",
     "text": [
      "Converting data for IS\n",
      "Converting data for XK\n",
      "Converting data for CH\n",
      "Converting data for AT\n",
      "Converting data for DK\n"
     ]
    },
    {
     "name": "stderr",
     "output_type": "stream",
     "text": [
      " 26%|██▌       | 10/39 [00:00<00:01, 18.80it/s]"
     ]
    },
    {
     "name": "stdout",
     "output_type": "stream",
     "text": [
      "Converting data for AL\n",
      "Converting data for HR\n",
      "Converting data for LU\n",
      "Converting data for SK\n",
      "Converting data for PL\n"
     ]
    },
    {
     "name": "stderr",
     "output_type": "stream",
     "text": [
      " 33%|███▎      | 13/39 [00:00<00:01, 15.50it/s]"
     ]
    },
    {
     "name": "stdout",
     "output_type": "stream",
     "text": [
      "Converting data for GB\n",
      "Converting data for IE\n",
      "Converting data for BA\n",
      "Converting data for BE\n"
     ]
    },
    {
     "name": "stderr",
     "output_type": "stream",
     "text": [
      " 46%|████▌     | 18/39 [00:01<00:01, 14.96it/s]"
     ]
    },
    {
     "name": "stdout",
     "output_type": "stream",
     "text": [
      "Converting data for TR\n",
      "Converting data for LT\n",
      "Converting data for IT\n",
      "Converting data for ES\n"
     ]
    },
    {
     "name": "stderr",
     "output_type": "stream",
     "text": [
      " 51%|█████▏    | 20/39 [00:02<00:02,  6.38it/s]"
     ]
    },
    {
     "name": "stdout",
     "output_type": "stream",
     "text": [
      "Converting data for MT\n",
      "Converting data for RO\n"
     ]
    },
    {
     "name": "stderr",
     "output_type": "stream",
     "text": [
      " 62%|██████▏   | 24/39 [00:02<00:01,  7.56it/s]"
     ]
    },
    {
     "name": "stdout",
     "output_type": "stream",
     "text": [
      "Converting data for BG\n",
      "Converting data for RS\n",
      "Converting data for NL\n"
     ]
    },
    {
     "name": "stderr",
     "output_type": "stream",
     "text": [
      " 67%|██████▋   | 26/39 [00:02<00:01,  7.42it/s]"
     ]
    },
    {
     "name": "stdout",
     "output_type": "stream",
     "text": [
      "Converting data for CZ\n",
      "Converting data for PT\n"
     ]
    },
    {
     "name": "stderr",
     "output_type": "stream",
     "text": [
      " 72%|███████▏  | 28/39 [00:03<00:01,  7.64it/s]"
     ]
    },
    {
     "name": "stdout",
     "output_type": "stream",
     "text": [
      "Converting data for MK\n",
      "Converting data for SE\n"
     ]
    },
    {
     "name": "stderr",
     "output_type": "stream",
     "text": [
      " 74%|███████▍  | 29/39 [00:03<00:01,  7.67it/s]"
     ]
    },
    {
     "name": "stdout",
     "output_type": "stream",
     "text": [
      "Converting data for ME\n",
      "Converting data for FR\n"
     ]
    },
    {
     "name": "stderr",
     "output_type": "stream",
     "text": [
      " 82%|████████▏ | 32/39 [00:03<00:01,  6.66it/s]"
     ]
    },
    {
     "name": "stdout",
     "output_type": "stream",
     "text": [
      "Converting data for NO\n",
      "Converting data for LV\n"
     ]
    },
    {
     "name": "stderr",
     "output_type": "stream",
     "text": [
      " 87%|████████▋ | 34/39 [00:03<00:00,  7.74it/s]"
     ]
    },
    {
     "name": "stdout",
     "output_type": "stream",
     "text": [
      "Converting data for AD\n",
      "Converting data for CY\n"
     ]
    },
    {
     "name": "stderr",
     "output_type": "stream",
     "text": [
      " 92%|█████████▏| 36/39 [00:04<00:00,  8.26it/s]"
     ]
    },
    {
     "name": "stdout",
     "output_type": "stream",
     "text": [
      "Converting data for HU\n",
      "Converting data for GR\n"
     ]
    },
    {
     "name": "stderr",
     "output_type": "stream",
     "text": [
      " 97%|█████████▋| 38/39 [00:04<00:00,  8.89it/s]"
     ]
    },
    {
     "name": "stdout",
     "output_type": "stream",
     "text": [
      "Converting data for EE\n",
      "Converting data for FI\n"
     ]
    },
    {
     "name": "stderr",
     "output_type": "stream",
     "text": [
      "100%|██████████| 39/39 [00:04<00:00,  8.83it/s]\n"
     ]
    },
    {
     "data": {
      "application/vnd.microsoft.datawrangler.viewer.v0+json": {
       "columns": [
        {
         "name": "index",
         "rawType": "int64",
         "type": "integer"
        },
        {
         "name": "Samplingpoint",
         "rawType": "object",
         "type": "string"
        },
        {
         "name": "PollutantCode",
         "rawType": "int64",
         "type": "integer"
        },
        {
         "name": "PollutantName",
         "rawType": "object",
         "type": "string"
        },
        {
         "name": "Month",
         "rawType": "object",
         "type": "string"
        },
        {
         "name": "Latitude",
         "rawType": "float64",
         "type": "float"
        },
        {
         "name": "Longitude",
         "rawType": "float64",
         "type": "float"
        },
        {
         "name": "Value",
         "rawType": "float64",
         "type": "float"
        },
        {
         "name": "Unit",
         "rawType": "object",
         "type": "string"
        },
        {
         "name": "Country",
         "rawType": "object",
         "type": "string"
        }
       ],
       "conversionMethod": "pd.DataFrame",
       "ref": "74dc6781-5783-47df-b252-f825459fa32a",
       "rows": [
        [
         "0",
         "SPO-SI0001A_00001_100",
         "1",
         "SO2",
         "2021-01-01",
         "46.23451",
         "15.26248",
         "3.0795295699",
         "ug.m-3",
         "Slovenia"
        ],
        [
         "1",
         "SPO-SI0001A_00001_100",
         "1",
         "SO2",
         "2021-02-01",
         "46.23451",
         "15.26248",
         "4.0908184524",
         "ug.m-3",
         "Slovenia"
        ],
        [
         "2",
         "SPO-SI0001A_00001_100",
         "1",
         "SO2",
         "2021-03-01",
         "46.23451",
         "15.26248",
         "4.2574193548",
         "ug.m-3",
         "Slovenia"
        ],
        [
         "3",
         "SPO-SI0001A_00001_100",
         "1",
         "SO2",
         "2021-04-01",
         "46.23451",
         "15.26248",
         "2.892125",
         "ug.m-3",
         "Slovenia"
        ],
        [
         "4",
         "SPO-SI0001A_00001_100",
         "1",
         "SO2",
         "2021-05-01",
         "46.23451",
         "15.26248",
         "2.1360483871",
         "ug.m-3",
         "Slovenia"
        ]
       ],
       "shape": {
        "columns": 9,
        "rows": 5
       }
      },
      "text/html": [
       "<div>\n",
       "<style scoped>\n",
       "    .dataframe tbody tr th:only-of-type {\n",
       "        vertical-align: middle;\n",
       "    }\n",
       "\n",
       "    .dataframe tbody tr th {\n",
       "        vertical-align: top;\n",
       "    }\n",
       "\n",
       "    .dataframe thead th {\n",
       "        text-align: right;\n",
       "    }\n",
       "</style>\n",
       "<table border=\"1\" class=\"dataframe\">\n",
       "  <thead>\n",
       "    <tr style=\"text-align: right;\">\n",
       "      <th></th>\n",
       "      <th>Samplingpoint</th>\n",
       "      <th>PollutantCode</th>\n",
       "      <th>PollutantName</th>\n",
       "      <th>Month</th>\n",
       "      <th>Latitude</th>\n",
       "      <th>Longitude</th>\n",
       "      <th>Value</th>\n",
       "      <th>Unit</th>\n",
       "      <th>Country</th>\n",
       "    </tr>\n",
       "  </thead>\n",
       "  <tbody>\n",
       "    <tr>\n",
       "      <th>0</th>\n",
       "      <td>SPO-SI0001A_00001_100</td>\n",
       "      <td>1</td>\n",
       "      <td>SO2</td>\n",
       "      <td>2021-01-01</td>\n",
       "      <td>46.23451</td>\n",
       "      <td>15.26248</td>\n",
       "      <td>3.079530</td>\n",
       "      <td>ug.m-3</td>\n",
       "      <td>Slovenia</td>\n",
       "    </tr>\n",
       "    <tr>\n",
       "      <th>1</th>\n",
       "      <td>SPO-SI0001A_00001_100</td>\n",
       "      <td>1</td>\n",
       "      <td>SO2</td>\n",
       "      <td>2021-02-01</td>\n",
       "      <td>46.23451</td>\n",
       "      <td>15.26248</td>\n",
       "      <td>4.090818</td>\n",
       "      <td>ug.m-3</td>\n",
       "      <td>Slovenia</td>\n",
       "    </tr>\n",
       "    <tr>\n",
       "      <th>2</th>\n",
       "      <td>SPO-SI0001A_00001_100</td>\n",
       "      <td>1</td>\n",
       "      <td>SO2</td>\n",
       "      <td>2021-03-01</td>\n",
       "      <td>46.23451</td>\n",
       "      <td>15.26248</td>\n",
       "      <td>4.257419</td>\n",
       "      <td>ug.m-3</td>\n",
       "      <td>Slovenia</td>\n",
       "    </tr>\n",
       "    <tr>\n",
       "      <th>3</th>\n",
       "      <td>SPO-SI0001A_00001_100</td>\n",
       "      <td>1</td>\n",
       "      <td>SO2</td>\n",
       "      <td>2021-04-01</td>\n",
       "      <td>46.23451</td>\n",
       "      <td>15.26248</td>\n",
       "      <td>2.892125</td>\n",
       "      <td>ug.m-3</td>\n",
       "      <td>Slovenia</td>\n",
       "    </tr>\n",
       "    <tr>\n",
       "      <th>4</th>\n",
       "      <td>SPO-SI0001A_00001_100</td>\n",
       "      <td>1</td>\n",
       "      <td>SO2</td>\n",
       "      <td>2021-05-01</td>\n",
       "      <td>46.23451</td>\n",
       "      <td>15.26248</td>\n",
       "      <td>2.136048</td>\n",
       "      <td>ug.m-3</td>\n",
       "      <td>Slovenia</td>\n",
       "    </tr>\n",
       "  </tbody>\n",
       "</table>\n",
       "</div>"
      ],
      "text/plain": [
       "           Samplingpoint  PollutantCode PollutantName       Month  Latitude  \\\n",
       "0  SPO-SI0001A_00001_100              1           SO2  2021-01-01  46.23451   \n",
       "1  SPO-SI0001A_00001_100              1           SO2  2021-02-01  46.23451   \n",
       "2  SPO-SI0001A_00001_100              1           SO2  2021-03-01  46.23451   \n",
       "3  SPO-SI0001A_00001_100              1           SO2  2021-04-01  46.23451   \n",
       "4  SPO-SI0001A_00001_100              1           SO2  2021-05-01  46.23451   \n",
       "\n",
       "   Longitude     Value    Unit   Country  \n",
       "0   15.26248  3.079530  ug.m-3  Slovenia  \n",
       "1   15.26248  4.090818  ug.m-3  Slovenia  \n",
       "2   15.26248  4.257419  ug.m-3  Slovenia  \n",
       "3   15.26248  2.892125  ug.m-3  Slovenia  \n",
       "4   15.26248  2.136048  ug.m-3  Slovenia  "
      ]
     },
     "execution_count": 44,
     "metadata": {},
     "output_type": "execute_result"
    }
   ],
   "source": [
    "df = pd.DataFrame()\n",
    "for country in tqdm(countries):\n",
    "    print(f\"Converting data for {country}\")\n",
    "    df_country = pd.read_csv(f\"../data/aggregated_air_quality_monthly/{country}.csv\", sep=\",\", low_memory=False)    \n",
    "    df_country['Country'] = country_code_to_name[country]\n",
    "    df = pd.concat([df, df_country], ignore_index=True)\n",
    "df.to_json(f\"../data/aggregated_air_quality_monthly_json/all.json\", orient='records', lines=True)"
   ]
  },
  {
   "cell_type": "code",
   "execution_count": null,
   "metadata": {},
   "outputs": [
    {
     "data": {
      "application/vnd.microsoft.datawrangler.viewer.v0+json": {
       "columns": [
        {
         "name": "index",
         "rawType": "int64",
         "type": "integer"
        },
        {
         "name": "Year",
         "rawType": "int32",
         "type": "integer"
        },
        {
         "name": "Samplingpoint",
         "rawType": "object",
         "type": "string"
        },
        {
         "name": "PollutantName",
         "rawType": "object",
         "type": "string"
        },
        {
         "name": "Country",
         "rawType": "object",
         "type": "string"
        },
        {
         "name": "avg_value",
         "rawType": "float64",
         "type": "float"
        },
        {
         "name": "Unit",
         "rawType": "object",
         "type": "string"
        },
        {
         "name": "Latitude",
         "rawType": "float64",
         "type": "float"
        },
        {
         "name": "Longitude",
         "rawType": "float64",
         "type": "float"
        }
       ],
       "conversionMethod": "pd.DataFrame",
       "ref": "81850c22-ecf9-438f-a7ce-c16809644bc9",
       "rows": [
        [
         "0",
         "1990",
         "SPO.04.S156.3945.1.1",
         "SO2",
         "Austria",
         "5.385017707783334",
         "ug.m-3",
         "48.25747",
         "13.03923"
        ],
        [
         "1",
         "1990",
         "SPO.04.S156.3950.7.1",
         "O3",
         "Austria",
         "0.0",
         "ug.m-3",
         "48.25747",
         "13.03923"
        ],
        [
         "2",
         "1990",
         "SPO.04.S173.56394.8.1",
         "NO2",
         "Austria",
         "42.83524340554167",
         "ug.m-3",
         "48.27975",
         "14.3665"
        ],
        [
         "3",
         "1990",
         "SPO.04.S173.56395.1.1",
         "SO2",
         "Austria",
         "11.854724169016668",
         "ug.m-3",
         "48.27975",
         "14.3665"
        ],
        [
         "4",
         "1990",
         "SPO.06.119.4942.1.1",
         "SO2",
         "Austria",
         "18.019246565116667",
         "ug.m-3",
         "47.21037",
         "14.82528"
        ]
       ],
       "shape": {
        "columns": 8,
        "rows": 5
       }
      },
      "text/html": [
       "<div>\n",
       "<style scoped>\n",
       "    .dataframe tbody tr th:only-of-type {\n",
       "        vertical-align: middle;\n",
       "    }\n",
       "\n",
       "    .dataframe tbody tr th {\n",
       "        vertical-align: top;\n",
       "    }\n",
       "\n",
       "    .dataframe thead th {\n",
       "        text-align: right;\n",
       "    }\n",
       "</style>\n",
       "<table border=\"1\" class=\"dataframe\">\n",
       "  <thead>\n",
       "    <tr style=\"text-align: right;\">\n",
       "      <th></th>\n",
       "      <th>Year</th>\n",
       "      <th>Samplingpoint</th>\n",
       "      <th>PollutantName</th>\n",
       "      <th>Country</th>\n",
       "      <th>avg_value</th>\n",
       "      <th>Unit</th>\n",
       "      <th>Latitude</th>\n",
       "      <th>Longitude</th>\n",
       "    </tr>\n",
       "  </thead>\n",
       "  <tbody>\n",
       "    <tr>\n",
       "      <th>0</th>\n",
       "      <td>1990</td>\n",
       "      <td>SPO.04.S156.3945.1.1</td>\n",
       "      <td>SO2</td>\n",
       "      <td>Austria</td>\n",
       "      <td>5.385018</td>\n",
       "      <td>ug.m-3</td>\n",
       "      <td>48.25747</td>\n",
       "      <td>13.03923</td>\n",
       "    </tr>\n",
       "    <tr>\n",
       "      <th>1</th>\n",
       "      <td>1990</td>\n",
       "      <td>SPO.04.S156.3950.7.1</td>\n",
       "      <td>O3</td>\n",
       "      <td>Austria</td>\n",
       "      <td>0.000000</td>\n",
       "      <td>ug.m-3</td>\n",
       "      <td>48.25747</td>\n",
       "      <td>13.03923</td>\n",
       "    </tr>\n",
       "    <tr>\n",
       "      <th>2</th>\n",
       "      <td>1990</td>\n",
       "      <td>SPO.04.S173.56394.8.1</td>\n",
       "      <td>NO2</td>\n",
       "      <td>Austria</td>\n",
       "      <td>42.835243</td>\n",
       "      <td>ug.m-3</td>\n",
       "      <td>48.27975</td>\n",
       "      <td>14.36650</td>\n",
       "    </tr>\n",
       "    <tr>\n",
       "      <th>3</th>\n",
       "      <td>1990</td>\n",
       "      <td>SPO.04.S173.56395.1.1</td>\n",
       "      <td>SO2</td>\n",
       "      <td>Austria</td>\n",
       "      <td>11.854724</td>\n",
       "      <td>ug.m-3</td>\n",
       "      <td>48.27975</td>\n",
       "      <td>14.36650</td>\n",
       "    </tr>\n",
       "    <tr>\n",
       "      <th>4</th>\n",
       "      <td>1990</td>\n",
       "      <td>SPO.06.119.4942.1.1</td>\n",
       "      <td>SO2</td>\n",
       "      <td>Austria</td>\n",
       "      <td>18.019247</td>\n",
       "      <td>ug.m-3</td>\n",
       "      <td>47.21037</td>\n",
       "      <td>14.82528</td>\n",
       "    </tr>\n",
       "  </tbody>\n",
       "</table>\n",
       "</div>"
      ],
      "text/plain": [
       "   Year          Samplingpoint PollutantName  Country  avg_value    Unit  \\\n",
       "0  1990   SPO.04.S156.3945.1.1           SO2  Austria   5.385018  ug.m-3   \n",
       "1  1990   SPO.04.S156.3950.7.1            O3  Austria   0.000000  ug.m-3   \n",
       "2  1990  SPO.04.S173.56394.8.1           NO2  Austria  42.835243  ug.m-3   \n",
       "3  1990  SPO.04.S173.56395.1.1           SO2  Austria  11.854724  ug.m-3   \n",
       "4  1990    SPO.06.119.4942.1.1           SO2  Austria  18.019247  ug.m-3   \n",
       "\n",
       "   Latitude  Longitude  \n",
       "0  48.25747   13.03923  \n",
       "1  48.25747   13.03923  \n",
       "2  48.27975   14.36650  \n",
       "3  48.27975   14.36650  \n",
       "4  47.21037   14.82528  "
      ]
     },
     "metadata": {},
     "output_type": "display_data"
    }
   ],
   "source": [
    "import pandas as pd\n",
    "import json\n",
    "\n",
    "df['Month'] = pd.to_datetime(df['Month'])\n",
    "df['Year'] = df['Month'].dt.year\n",
    "\n",
    "grouped = df.groupby(['Year', 'Samplingpoint', 'PollutantName', 'Country'], as_index=False).agg(\n",
    "    avg_value=('Value', 'mean'),\n",
    "    Unit=('Unit', 'first'),\n",
    "    Latitude=('Latitude', 'first'),\n",
    "    Longitude=('Longitude', 'first')\n",
    ")\n",
    "\n",
    "display(grouped.head())\n",
    "\n",
    "grouped['avg_value'] = grouped['avg_value'].round(4)\n",
    "result = {}\n",
    "\n",
    "for _, row in grouped.iterrows():\n",
    "    year = str(row['Year'])\n",
    "    pollutant = row['PollutantName']\n",
    "    samplingpoint = row['Samplingpoint']\n",
    "    country = row['Country']\n",
    "    value = row['avg_value']\n",
    "    unit = row['Unit']\n",
    "    longitude = row['Longitude']\n",
    "    latitude = row['Latitude']\n",
    "\n",
    "    if year not in result:\n",
    "        result[year] = {}\n",
    "    if pollutant not in result[year]:\n",
    "        result[year][pollutant] = {}\n",
    "    if country not in result[year][pollutant]:\n",
    "        result[year][pollutant][country] = []\n",
    "\n",
    "    result[year][pollutant][country].append({\n",
    "        \"Country\": country,\n",
    "        \"Samplingpoint\": samplingpoint, \n",
    "        \"Concentration\": value,\n",
    "        \"Unit\": unit,\n",
    "        \"Longitude\": longitude,\n",
    "        \"Latitude\": latitude,\n",
    "    })\n",
    "\n",
    "with open(\"../data/aggregated_air_quality_yearly_json/all.json\", \"w\") as f:\n",
    "    json.dump(result, f, indent=2)"
   ]
  },
  {
   "cell_type": "code",
   "execution_count": null,
   "metadata": {},
   "outputs": [
    {
     "data": {
      "application/vnd.microsoft.datawrangler.viewer.v0+json": {
       "columns": [
        {
         "name": "index",
         "rawType": "int64",
         "type": "integer"
        },
        {
         "name": "Year",
         "rawType": "int64",
         "type": "integer"
        },
        {
         "name": "Pollutant",
         "rawType": "object",
         "type": "string"
        },
        {
         "name": "Country",
         "rawType": "object",
         "type": "string"
        },
        {
         "name": "Samplingpoint",
         "rawType": "object",
         "type": "string"
        },
        {
         "name": "Concentration",
         "rawType": "float64",
         "type": "float"
        },
        {
         "name": "Unit",
         "rawType": "object",
         "type": "string"
        },
        {
         "name": "Longitude",
         "rawType": "float64",
         "type": "float"
        },
        {
         "name": "Latitude",
         "rawType": "float64",
         "type": "float"
        }
       ],
       "conversionMethod": "pd.DataFrame",
       "ref": "ebf5c0b5-cb08-44e8-ac5c-1485ea9a9184",
       "rows": [
        [
         "0",
         "1990",
         "SO2",
         "Austria",
         "SPO.04.S156.3945.1.1",
         "5.385",
         "ug.m-3",
         "13.03923",
         "48.25747"
        ],
        [
         "1",
         "1990",
         "SO2",
         "Austria",
         "SPO.04.S173.56395.1.1",
         "11.8547",
         "ug.m-3",
         "14.3665",
         "48.27975"
        ],
        [
         "2",
         "1990",
         "SO2",
         "Austria",
         "SPO.06.119.4942.1.1",
         "18.0192",
         "ug.m-3",
         "14.82528",
         "47.21037"
        ],
        [
         "3",
         "1990",
         "SO2",
         "Austria",
         "SPO.06.156.1813.1.1",
         "5.8418",
         "ug.m-3",
         "15.88222",
         "47.34806"
        ],
        [
         "4",
         "1990",
         "SO2",
         "Austria",
         "SPO.06.170.5937.1.1",
         "16.317",
         "ug.m-3",
         "15.43308",
         "47.04172"
        ]
       ],
       "shape": {
        "columns": 8,
        "rows": 5
       }
      },
      "text/html": [
       "<div>\n",
       "<style scoped>\n",
       "    .dataframe tbody tr th:only-of-type {\n",
       "        vertical-align: middle;\n",
       "    }\n",
       "\n",
       "    .dataframe tbody tr th {\n",
       "        vertical-align: top;\n",
       "    }\n",
       "\n",
       "    .dataframe thead th {\n",
       "        text-align: right;\n",
       "    }\n",
       "</style>\n",
       "<table border=\"1\" class=\"dataframe\">\n",
       "  <thead>\n",
       "    <tr style=\"text-align: right;\">\n",
       "      <th></th>\n",
       "      <th>Year</th>\n",
       "      <th>Pollutant</th>\n",
       "      <th>Country</th>\n",
       "      <th>Samplingpoint</th>\n",
       "      <th>Concentration</th>\n",
       "      <th>Unit</th>\n",
       "      <th>Longitude</th>\n",
       "      <th>Latitude</th>\n",
       "    </tr>\n",
       "  </thead>\n",
       "  <tbody>\n",
       "    <tr>\n",
       "      <th>0</th>\n",
       "      <td>1990</td>\n",
       "      <td>SO2</td>\n",
       "      <td>Austria</td>\n",
       "      <td>SPO.04.S156.3945.1.1</td>\n",
       "      <td>5.3850</td>\n",
       "      <td>ug.m-3</td>\n",
       "      <td>13.03923</td>\n",
       "      <td>48.25747</td>\n",
       "    </tr>\n",
       "    <tr>\n",
       "      <th>1</th>\n",
       "      <td>1990</td>\n",
       "      <td>SO2</td>\n",
       "      <td>Austria</td>\n",
       "      <td>SPO.04.S173.56395.1.1</td>\n",
       "      <td>11.8547</td>\n",
       "      <td>ug.m-3</td>\n",
       "      <td>14.36650</td>\n",
       "      <td>48.27975</td>\n",
       "    </tr>\n",
       "    <tr>\n",
       "      <th>2</th>\n",
       "      <td>1990</td>\n",
       "      <td>SO2</td>\n",
       "      <td>Austria</td>\n",
       "      <td>SPO.06.119.4942.1.1</td>\n",
       "      <td>18.0192</td>\n",
       "      <td>ug.m-3</td>\n",
       "      <td>14.82528</td>\n",
       "      <td>47.21037</td>\n",
       "    </tr>\n",
       "    <tr>\n",
       "      <th>3</th>\n",
       "      <td>1990</td>\n",
       "      <td>SO2</td>\n",
       "      <td>Austria</td>\n",
       "      <td>SPO.06.156.1813.1.1</td>\n",
       "      <td>5.8418</td>\n",
       "      <td>ug.m-3</td>\n",
       "      <td>15.88222</td>\n",
       "      <td>47.34806</td>\n",
       "    </tr>\n",
       "    <tr>\n",
       "      <th>4</th>\n",
       "      <td>1990</td>\n",
       "      <td>SO2</td>\n",
       "      <td>Austria</td>\n",
       "      <td>SPO.06.170.5937.1.1</td>\n",
       "      <td>16.3170</td>\n",
       "      <td>ug.m-3</td>\n",
       "      <td>15.43308</td>\n",
       "      <td>47.04172</td>\n",
       "    </tr>\n",
       "  </tbody>\n",
       "</table>\n",
       "</div>"
      ],
      "text/plain": [
       "   Year Pollutant  Country          Samplingpoint  Concentration    Unit  \\\n",
       "0  1990       SO2  Austria   SPO.04.S156.3945.1.1         5.3850  ug.m-3   \n",
       "1  1990       SO2  Austria  SPO.04.S173.56395.1.1        11.8547  ug.m-3   \n",
       "2  1990       SO2  Austria    SPO.06.119.4942.1.1        18.0192  ug.m-3   \n",
       "3  1990       SO2  Austria    SPO.06.156.1813.1.1         5.8418  ug.m-3   \n",
       "4  1990       SO2  Austria    SPO.06.170.5937.1.1        16.3170  ug.m-3   \n",
       "\n",
       "   Longitude  Latitude  \n",
       "0   13.03923  48.25747  \n",
       "1   14.36650  48.27975  \n",
       "2   14.82528  47.21037  \n",
       "3   15.88222  47.34806  \n",
       "4   15.43308  47.04172  "
      ]
     },
     "metadata": {},
     "output_type": "display_data"
    }
   ],
   "source": [
    "import json\n",
    "import pandas as pd\n",
    "\n",
    "with open(\"../data/aggregated_air_quality_yearly_json/all.json\", \"r\") as f:\n",
    "    data = json.load(f)\n",
    "\n",
    "rows = []\n",
    "for year, year_data in data.items():\n",
    "    for pollutant, pollutant_data in year_data.items():\n",
    "        for country, records in pollutant_data.items():\n",
    "            for record in records:\n",
    "                flat_record = {\n",
    "                    \"Year\": int(year),\n",
    "                    \"Pollutant\": pollutant,\n",
    "                    \"Country\": country,\n",
    "                    **record  # includes Samplingpoint, Concentration, Latitude, Longitude, etc.\n",
    "                }\n",
    "                rows.append(flat_record)\n",
    "\n",
    "with open(\"../data/aggregated_air_quality_yearly_json/all_flat.json\", \"w\") as f:\n",
    "    json.dump(rows, f, indent=2)\n",
    "\n",
    "df = pd.DataFrame(rows)\n",
    "display(df.head())"
   ]
  }
 ],
 "metadata": {
  "kernelspec": {
   "display_name": "dataviz",
   "language": "python",
   "name": "python3"
  },
  "language_info": {
   "codemirror_mode": {
    "name": "ipython",
    "version": 3
   },
   "file_extension": ".py",
   "mimetype": "text/x-python",
   "name": "python",
   "nbconvert_exporter": "python",
   "pygments_lexer": "ipython3",
   "version": "3.13.2"
  }
 },
 "nbformat": 4,
 "nbformat_minor": 2
}
