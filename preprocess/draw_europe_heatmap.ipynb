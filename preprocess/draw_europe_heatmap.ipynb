{
 "cells": [
  {
   "cell_type": "code",
   "execution_count": 1,
   "metadata": {},
   "outputs": [],
   "source": [
    "%load_ext autoreload\n",
    "%autoreload 2"
   ]
  },
  {
   "cell_type": "code",
   "execution_count": 2,
   "metadata": {},
   "outputs": [],
   "source": [
    "import airbase\n",
    "import pandas as pd\n",
    "import matplotlib.pyplot as plt\n",
    "import fastparquet as fp\n",
    "import geopandas as gpd\n",
    "from shapely.geometry import Point\n",
    "import contextily as ctx\n",
    "import plotly.express as px\n",
    "from tqdm import tqdm"
   ]
  },
  {
   "cell_type": "code",
   "execution_count": 43,
   "metadata": {},
   "outputs": [],
   "source": [
    "country_code_to_name = {\n",
    "    'SI': 'Slovenia',\n",
    "    'DE': 'Germany',\n",
    "    'IS': 'Iceland',\n",
    "    'XK': 'Kosovo',\n",
    "    'CH': 'Switzerland',\n",
    "    'AT': 'Austria',\n",
    "    'DK': 'Denmark',\n",
    "    'AL': 'Albania',\n",
    "    'HR': 'Croatia',\n",
    "    'LU': 'Luxembourg',\n",
    "    'SK': 'Slovakia',\n",
    "    'PL': 'Poland',\n",
    "    'GB': 'United Kingdom',\n",
    "    'IE': 'Ireland',\n",
    "    'BA': 'Bosnia and Herzegovina',\n",
    "    'BE': 'Belgium',\n",
    "    'TR': 'Turkey',\n",
    "    'LT': 'Lithuania',\n",
    "    'IT': 'Italy',\n",
    "    'ES': 'Spain',\n",
    "    'MT': 'Malta',\n",
    "    'RO': 'Romania',\n",
    "    'BG': 'Bulgaria',\n",
    "    'RS': 'Serbia',\n",
    "    'NL': 'Netherlands',\n",
    "    'CZ': 'Czech Republic',\n",
    "    'PT': 'Portugal',\n",
    "    'MK': 'North Macedonia',\n",
    "    'SE': 'Sweden',\n",
    "    'ME': 'Montenegro',\n",
    "    'FR': 'France',\n",
    "    'NO': 'Norway',\n",
    "    'LV': 'Latvia',\n",
    "    'AD': 'Andorra',\n",
    "    'CY': 'Cyprus',\n",
    "    'HU': 'Hungary',\n",
    "    'GR': 'Greece',\n",
    "    'EE': 'Estonia',\n",
    "    'FI': 'Finland',\n",
    "}"
   ]
  },
  {
   "cell_type": "code",
   "execution_count": 4,
   "metadata": {},
   "outputs": [],
   "source": [
    "DATA_PATH = '../data/air_quality/'"
   ]
  },
  {
   "cell_type": "code",
   "execution_count": 5,
   "metadata": {},
   "outputs": [],
   "source": [
    "def create_full_df(year: int = None) -> pd.DataFrame:\n",
    "    \"\"\"Create a full DataFrame with all countries' data.\n",
    "\n",
    "    Args:\n",
    "        year (int, optional): used to filter out data before a specific year. Defaults to None.\n",
    "\n",
    "    Returns:\n",
    "        pd.DataFrame: merged DataFrame with data and metadata.\n",
    "    \"\"\"\n",
    "    print(f\"Reading data...\")\n",
    "    \n",
    "    client = airbase.AirbaseClient()\n",
    "    countries = client.countries\n",
    "    df = pd.DataFrame()\n",
    "    \n",
    "    countries = ['IT']\n",
    "    \n",
    "    for country in countries:\n",
    "        print(f\"Reading data for {country}\")        \n",
    "        try:\n",
    "            df_country = fp.ParquetFile(f\"{DATA_PATH}{country}\").to_pandas()\n",
    "            \n",
    "            if year:\n",
    "                df_country = df_country[df_country['Start'] > f\"{year}-01-01\"]\n",
    "            \n",
    "            df_country = df_country.dropna(subset=['Value'])\n",
    "            df_country = df_country[(df_country['Value'] >= 0) & (df_country['Value'] <= 1000)]\n",
    "                        \n",
    "            display(df_country.head())\n",
    "            print(df_country['AggType'].unique())\n",
    "            print(df_country['Unit'].unique())\n",
    "            print(len(df_country[df_country['AggType'] == 'hour']))\n",
    "            print(len(df_country[df_country['AggType'] == 'day']))\n",
    "            \n",
    "            df = pd.concat([df, df_country], ignore_index=True)\n",
    "        except FileNotFoundError:\n",
    "            print(f\"File not found for {country}. Skipping.\")\n",
    "    \n",
    "    df_metadata = pd.read_csv(f\"{DATA_PATH}/metadata.csv\", sep=\",\", low_memory=False)\n",
    "    print(\"Data read.\")\n",
    "    \n",
    "    df_metadata_filtered = df_metadata[['Sampling Point Id', 'Latitude', 'Longitude']]\n",
    "    df['Samplingpoint'] = df['Samplingpoint'].astype(str).str.split('/').str[1]\n",
    "    print(len(df))\n",
    "    df_merged = df[['Samplingpoint', 'Pollutant', 'Unit', 'Start', 'Value']].merge(df_metadata_filtered, left_on='Samplingpoint', right_on='Sampling Point Id')\n",
    "    print(len(df_merged))\n",
    "    df_merged['Start'] = df_merged['Start'].dt.date\n",
    "    df_merged = df_merged.groupby(['Samplingpoint', 'Pollutant', 'Start', 'Latitude', 'Longitude'], as_index=False).agg({'Value': 'mean'})    \n",
    "    return df_merged"
   ]
  },
  {
   "cell_type": "code",
   "execution_count": null,
   "metadata": {},
   "outputs": [],
   "source": [
    "def aggregate_data(country: str) -> pd.DataFrame:\n",
    "    \"\"\"Compute the average value of each pollutant at each sampling point for each date.\n",
    "\n",
    "    Args:\n",
    "        country (str): Country code to filter data.\n",
    "\n",
    "    Returns:\n",
    "        pd.DataFrame: Aggregated DataFrame.\n",
    "    \"\"\"\n",
    "    print(f\"Reading data for {country}\")        \n",
    "    df = fp.ParquetFile(f\"{DATA_PATH}{country}\").to_pandas()  \n",
    "    start_length = len(df)  \n",
    "    df = df.dropna(subset=['Value'])\n",
    "    df = df[(df['Value'] >= 0)]\n",
    "    df['Samplingpoint'] = df['Samplingpoint'].astype(str).str.split('/').str[1]\n",
    "    \n",
    "    assert df.groupby('Pollutant')['Unit'].nunique().max() == 1, f\"Multiple units for a single pollutant\"\n",
    "    assert set(df['AggType'].unique()) <= {'hour', 'day'}, f\"Unexpected AggType values: {df['AggType'].unique()}\"\n",
    "    \n",
    "    df_metadata = pd.read_csv(f\"{DATA_PATH}/metadata.csv\", sep=\",\", low_memory=False)\n",
    "    print(\"Data read.\")\n",
    "    \n",
    "    df_metadata_filtered = df_metadata[['Sampling Point Id', 'Latitude', 'Longitude']]\n",
    "    df_merged = df[['Samplingpoint', 'Pollutant', 'Unit', 'Start', 'Value']].merge(df_metadata_filtered, left_on='Samplingpoint', right_on='Sampling Point Id')\n",
    "        \n",
    "    df_merged['Start'] = df_merged['Start'].dt.date\n",
    "    df_merged = df_merged.groupby(\n",
    "        ['Samplingpoint', 'Pollutant', 'Start', 'Latitude', 'Longitude'],\n",
    "        as_index=False\n",
    "    ).agg({\n",
    "        'Value': 'mean',\n",
    "        'Unit': 'first'\n",
    "    })    \n",
    "    \n",
    "    print(f\"Start length: {start_length} - End length: {len(df_merged)}\")\n",
    "    df_merged.to_csv(f\"../data/aggregated_air_quality/aggregated_{country}.csv\", index=False)  \n",
    "    return df_merged"
   ]
  },
  {
   "cell_type": "code",
   "execution_count": 31,
   "metadata": {},
   "outputs": [],
   "source": [
    "def aggregate_data_monthly(country: str) -> pd.DataFrame:\n",
    "    \"\"\"Compute the average value of each pollutant at each sampling point for each month.\n",
    "\n",
    "    Args:\n",
    "        country (str): Country code to filter data.\n",
    "\n",
    "    Returns:\n",
    "        pd.DataFrame: Aggregated DataFrame.\n",
    "    \"\"\"\n",
    "    print(f\"Reading data for {country}\")        \n",
    "    df = pd.read_csv(f\"../data/aggregated_air_quality/{country}.csv\", sep=\",\", low_memory=False)\n",
    "        \n",
    "    start_length = len(df)  \n",
    "    df = df.dropna(subset=['Value'])\n",
    "    df = df[(df['Value'] >= 0)]\n",
    "    \n",
    "    # Convert to datetime and extract year-month\n",
    "    df['Date'] = pd.to_datetime(df['Date'])\n",
    "    df['Month'] = df['Date'].dt.to_period('M').dt.to_timestamp()\n",
    "\n",
    "    # Group by month instead of full date\n",
    "    df_aggregated = df.groupby(\n",
    "        ['Samplingpoint', 'PollutantCode', 'PollutantName', 'Month', 'Latitude', 'Longitude'],\n",
    "        as_index=False\n",
    "    ).agg({\n",
    "        'Value': 'mean',\n",
    "        'Unit': 'first'\n",
    "    })\n",
    "    \n",
    "    print(f\"Start length: {start_length} - End length: {len(df_aggregated)}\")\n",
    "    df_aggregated.to_csv(f\"../data/aggregated_air_quality_monthly/{country}.csv\", index=False)  \n",
    "    return df_aggregated"
   ]
  },
  {
   "cell_type": "code",
   "execution_count": 32,
   "metadata": {},
   "outputs": [
    {
     "name": "stderr",
     "output_type": "stream",
     "text": [
      "  0%|          | 0/39 [00:00<?, ?it/s]"
     ]
    },
    {
     "name": "stdout",
     "output_type": "stream",
     "text": [
      "Aggregating data for SI\n",
      "Reading data for SI\n"
     ]
    },
    {
     "name": "stderr",
     "output_type": "stream",
     "text": [
      "  3%|▎         | 1/39 [00:00<00:13,  2.73it/s]"
     ]
    },
    {
     "name": "stdout",
     "output_type": "stream",
     "text": [
      "Start length: 170933 - End length: 5699\n",
      "Aggregating data for DE\n",
      "Reading data for DE\n",
      "Start length: 8061739 - End length: 269887\n"
     ]
    },
    {
     "name": "stderr",
     "output_type": "stream",
     "text": [
      "  5%|▌         | 2/39 [00:13<04:43,  7.67s/it]"
     ]
    },
    {
     "name": "stdout",
     "output_type": "stream",
     "text": [
      "Aggregating data for IS\n",
      "Reading data for IS\n"
     ]
    },
    {
     "name": "stderr",
     "output_type": "stream",
     "text": [
      "  8%|▊         | 3/39 [00:13<02:35,  4.31s/it]"
     ]
    },
    {
     "name": "stdout",
     "output_type": "stream",
     "text": [
      "Start length: 166074 - End length: 5630\n",
      "Aggregating data for XK\n",
      "Reading data for XK\n"
     ]
    },
    {
     "name": "stderr",
     "output_type": "stream",
     "text": [
      " 10%|█         | 4/39 [00:13<01:34,  2.70s/it]"
     ]
    },
    {
     "name": "stdout",
     "output_type": "stream",
     "text": [
      "Start length: 160808 - End length: 5579\n",
      "Aggregating data for CH\n",
      "Reading data for CH\n"
     ]
    },
    {
     "name": "stderr",
     "output_type": "stream",
     "text": [
      " 13%|█▎        | 5/39 [00:14<01:07,  1.99s/it]"
     ]
    },
    {
     "name": "stdout",
     "output_type": "stream",
     "text": [
      "Start length: 483460 - End length: 16192\n",
      "Aggregating data for AT\n",
      "Reading data for AT\n",
      "Start length: 2712959 - End length: 89385\n"
     ]
    },
    {
     "name": "stderr",
     "output_type": "stream",
     "text": [
      " 15%|█▌        | 6/39 [00:18<01:30,  2.75s/it]"
     ]
    },
    {
     "name": "stdout",
     "output_type": "stream",
     "text": [
      "Aggregating data for DK\n",
      "Reading data for DK\n"
     ]
    },
    {
     "name": "stderr",
     "output_type": "stream",
     "text": [
      " 18%|█▊        | 7/39 [00:18<01:01,  1.93s/it]"
     ]
    },
    {
     "name": "stdout",
     "output_type": "stream",
     "text": [
      "Start length: 158575 - End length: 5254\n",
      "Aggregating data for AL\n",
      "Reading data for AL\n"
     ]
    },
    {
     "name": "stderr",
     "output_type": "stream",
     "text": [
      " 21%|██        | 8/39 [00:19<00:42,  1.38s/it]"
     ]
    },
    {
     "name": "stdout",
     "output_type": "stream",
     "text": [
      "Start length: 96261 - End length: 3303\n",
      "Aggregating data for HR\n",
      "Reading data for HR\n"
     ]
    },
    {
     "name": "stderr",
     "output_type": "stream",
     "text": [
      " 23%|██▎       | 9/39 [00:19<00:31,  1.05s/it]"
     ]
    },
    {
     "name": "stdout",
     "output_type": "stream",
     "text": [
      "Start length: 210560 - End length: 7342\n",
      "Aggregating data for LU\n",
      "Reading data for LU\n"
     ]
    },
    {
     "name": "stderr",
     "output_type": "stream",
     "text": [
      " 26%|██▌       | 10/39 [00:19<00:23,  1.24it/s]"
     ]
    },
    {
     "name": "stdout",
     "output_type": "stream",
     "text": [
      "Start length: 153034 - End length: 5158\n",
      "Aggregating data for SK\n",
      "Reading data for SK\n"
     ]
    },
    {
     "name": "stderr",
     "output_type": "stream",
     "text": [
      " 28%|██▊       | 11/39 [00:20<00:22,  1.26it/s]"
     ]
    },
    {
     "name": "stdout",
     "output_type": "stream",
     "text": [
      "Start length: 506472 - End length: 17308\n",
      "Aggregating data for PL\n",
      "Reading data for PL\n",
      "Start length: 3499395 - End length: 117352\n"
     ]
    },
    {
     "name": "stderr",
     "output_type": "stream",
     "text": [
      " 31%|███       | 12/39 [00:25<00:58,  2.15s/it]"
     ]
    },
    {
     "name": "stdout",
     "output_type": "stream",
     "text": [
      "Aggregating data for GB\n",
      "Reading data for GB\n",
      "Start length: 1210081 - End length: 41758\n"
     ]
    },
    {
     "name": "stderr",
     "output_type": "stream",
     "text": [
      " 33%|███▎      | 13/39 [00:28<00:57,  2.23s/it]"
     ]
    },
    {
     "name": "stdout",
     "output_type": "stream",
     "text": [
      "Aggregating data for IE\n",
      "Reading data for IE\n"
     ]
    },
    {
     "name": "stderr",
     "output_type": "stream",
     "text": [
      " 36%|███▌      | 14/39 [00:28<00:43,  1.76s/it]"
     ]
    },
    {
     "name": "stdout",
     "output_type": "stream",
     "text": [
      "Start length: 372052 - End length: 12875\n",
      "Aggregating data for BA\n",
      "Reading data for BA\n"
     ]
    },
    {
     "name": "stderr",
     "output_type": "stream",
     "text": [
      " 38%|███▊      | 15/39 [00:29<00:32,  1.35s/it]"
     ]
    },
    {
     "name": "stdout",
     "output_type": "stream",
     "text": [
      "Start length: 232051 - End length: 7789\n",
      "Aggregating data for BE\n",
      "Reading data for BE\n",
      "Start length: 1239275 - End length: 41608\n"
     ]
    },
    {
     "name": "stderr",
     "output_type": "stream",
     "text": [
      " 41%|████      | 16/39 [00:31<00:36,  1.60s/it]"
     ]
    },
    {
     "name": "stdout",
     "output_type": "stream",
     "text": [
      "Aggregating data for TR\n",
      "Reading data for TR\n",
      "Start length: 2476509 - End length: 85415\n"
     ]
    },
    {
     "name": "stderr",
     "output_type": "stream",
     "text": [
      " 44%|████▎     | 17/39 [00:35<00:51,  2.36s/it]"
     ]
    },
    {
     "name": "stdout",
     "output_type": "stream",
     "text": [
      "Aggregating data for LT\n",
      "Reading data for LT\n"
     ]
    },
    {
     "name": "stderr",
     "output_type": "stream",
     "text": [
      " 46%|████▌     | 18/39 [00:35<00:37,  1.79s/it]"
     ]
    },
    {
     "name": "stdout",
     "output_type": "stream",
     "text": [
      "Start length: 275807 - End length: 9382\n",
      "Aggregating data for IT\n",
      "Reading data for IT\n",
      "Start length: 8137964 - End length: 276585\n"
     ]
    },
    {
     "name": "stderr",
     "output_type": "stream",
     "text": [
      " 49%|████▊     | 19/39 [00:52<02:01,  6.10s/it]"
     ]
    },
    {
     "name": "stdout",
     "output_type": "stream",
     "text": [
      "Aggregating data for ES\n",
      "Reading data for ES\n",
      "Start length: 10747034 - End length: 378890\n"
     ]
    },
    {
     "name": "stderr",
     "output_type": "stream",
     "text": [
      " 54%|█████▍    | 21/39 [01:10<02:02,  6.82s/it]"
     ]
    },
    {
     "name": "stdout",
     "output_type": "stream",
     "text": [
      "Aggregating data for MT\n",
      "Reading data for MT\n",
      "Start length: 99093 - End length: 3462\n",
      "Aggregating data for RO\n",
      "Reading data for RO\n",
      "Start length: 1742554 - End length: 58205\n"
     ]
    },
    {
     "name": "stderr",
     "output_type": "stream",
     "text": [
      " 56%|█████▋    | 22/39 [01:13<01:35,  5.64s/it]"
     ]
    },
    {
     "name": "stdout",
     "output_type": "stream",
     "text": [
      "Aggregating data for BG\n",
      "Reading data for BG\n"
     ]
    },
    {
     "name": "stderr",
     "output_type": "stream",
     "text": [
      " 59%|█████▉    | 23/39 [01:13<01:06,  4.18s/it]"
     ]
    },
    {
     "name": "stdout",
     "output_type": "stream",
     "text": [
      "Start length: 460450 - End length: 15735\n",
      "Aggregating data for RS\n",
      "Reading data for RS\n"
     ]
    },
    {
     "name": "stderr",
     "output_type": "stream",
     "text": [
      " 62%|██████▏   | 24/39 [01:14<00:45,  3.04s/it]"
     ]
    },
    {
     "name": "stdout",
     "output_type": "stream",
     "text": [
      "Start length: 227645 - End length: 7701\n",
      "Aggregating data for NL\n",
      "Reading data for NL\n",
      "Start length: 1099593 - End length: 36502\n"
     ]
    },
    {
     "name": "stderr",
     "output_type": "stream",
     "text": [
      " 64%|██████▍   | 25/39 [01:16<00:37,  2.68s/it]"
     ]
    },
    {
     "name": "stdout",
     "output_type": "stream",
     "text": [
      "Aggregating data for CZ\n",
      "Reading data for CZ\n",
      "Start length: 1926828 - End length: 64072\n"
     ]
    },
    {
     "name": "stderr",
     "output_type": "stream",
     "text": [
      " 67%|██████▋   | 26/39 [01:19<00:36,  2.84s/it]"
     ]
    },
    {
     "name": "stdout",
     "output_type": "stream",
     "text": [
      "Aggregating data for PT\n",
      "Reading data for PT\n",
      "Start length: 1039539 - End length: 34729\n"
     ]
    },
    {
     "name": "stderr",
     "output_type": "stream",
     "text": [
      " 69%|██████▉   | 27/39 [01:21<00:30,  2.50s/it]"
     ]
    },
    {
     "name": "stdout",
     "output_type": "stream",
     "text": [
      "Aggregating data for MK\n",
      "Reading data for MK\n"
     ]
    },
    {
     "name": "stderr",
     "output_type": "stream",
     "text": [
      " 72%|███████▏  | 28/39 [01:21<00:20,  1.89s/it]"
     ]
    },
    {
     "name": "stdout",
     "output_type": "stream",
     "text": [
      "Start length: 264631 - End length: 9264\n",
      "Aggregating data for SE\n",
      "Reading data for SE\n"
     ]
    },
    {
     "name": "stderr",
     "output_type": "stream",
     "text": [
      " 74%|███████▍  | 29/39 [01:22<00:16,  1.68s/it]"
     ]
    },
    {
     "name": "stdout",
     "output_type": "stream",
     "text": [
      "Start length: 705025 - End length: 23922\n",
      "Aggregating data for ME\n",
      "Reading data for ME\n"
     ]
    },
    {
     "name": "stderr",
     "output_type": "stream",
     "text": [
      " 77%|███████▋  | 30/39 [01:22<00:10,  1.21s/it]"
     ]
    },
    {
     "name": "stdout",
     "output_type": "stream",
     "text": [
      "Start length: 58534 - End length: 1993\n",
      "Aggregating data for FR\n",
      "Reading data for FR\n",
      "Start length: 6986199 - End length: 237578\n"
     ]
    },
    {
     "name": "stderr",
     "output_type": "stream",
     "text": [
      " 79%|███████▉  | 31/39 [01:34<00:33,  4.21s/it]"
     ]
    },
    {
     "name": "stdout",
     "output_type": "stream",
     "text": [
      "Aggregating data for NO\n",
      "Reading data for NO\n"
     ]
    },
    {
     "name": "stderr",
     "output_type": "stream",
     "text": [
      " 82%|████████▏ | 32/39 [01:35<00:23,  3.32s/it]"
     ]
    },
    {
     "name": "stdout",
     "output_type": "stream",
     "text": [
      "Start length: 753214 - End length: 25466\n",
      "Aggregating data for LV\n",
      "Reading data for LV\n"
     ]
    },
    {
     "name": "stderr",
     "output_type": "stream",
     "text": [
      " 85%|████████▍ | 33/39 [01:35<00:14,  2.38s/it]"
     ]
    },
    {
     "name": "stdout",
     "output_type": "stream",
     "text": [
      "Start length: 89663 - End length: 3193\n",
      "Aggregating data for AD\n",
      "Reading data for AD\n",
      "Start length: 50601 - End length: 1708\n",
      "Aggregating data for CY\n",
      "Reading data for CY\n"
     ]
    },
    {
     "name": "stderr",
     "output_type": "stream",
     "text": [
      " 90%|████████▉ | 35/39 [01:35<00:05,  1.33s/it]"
     ]
    },
    {
     "name": "stdout",
     "output_type": "stream",
     "text": [
      "Start length: 63044 - End length: 2088\n",
      "Aggregating data for HU\n",
      "Reading data for HU\n"
     ]
    },
    {
     "name": "stderr",
     "output_type": "stream",
     "text": [
      " 92%|█████████▏| 36/39 [01:36<00:03,  1.16s/it]"
     ]
    },
    {
     "name": "stdout",
     "output_type": "stream",
     "text": [
      "Start length: 395255 - End length: 13757\n",
      "Aggregating data for GR\n",
      "Reading data for GR\n"
     ]
    },
    {
     "name": "stderr",
     "output_type": "stream",
     "text": [
      " 95%|█████████▍| 37/39 [01:37<00:02,  1.05s/it]"
     ]
    },
    {
     "name": "stdout",
     "output_type": "stream",
     "text": [
      "Start length: 411743 - End length: 14524\n",
      "Aggregating data for EE\n",
      "Reading data for EE\n"
     ]
    },
    {
     "name": "stderr",
     "output_type": "stream",
     "text": [
      " 97%|█████████▋| 38/39 [01:37<00:00,  1.20it/s]"
     ]
    },
    {
     "name": "stdout",
     "output_type": "stream",
     "text": [
      "Start length: 161927 - End length: 5398\n",
      "Aggregating data for FI\n",
      "Reading data for FI\n"
     ]
    },
    {
     "name": "stderr",
     "output_type": "stream",
     "text": [
      "100%|██████████| 39/39 [01:38<00:00,  2.52s/it]"
     ]
    },
    {
     "name": "stdout",
     "output_type": "stream",
     "text": [
      "Start length: 562340 - End length: 18929\n"
     ]
    },
    {
     "name": "stderr",
     "output_type": "stream",
     "text": [
      "\n"
     ]
    }
   ],
   "source": [
    "from tqdm import tqdm\n",
    "\n",
    "client = airbase.AirbaseClient()\n",
    "countries = client.countries\n",
    "\n",
    "for country in tqdm(countries):\n",
    "    print(f\"Aggregating data for {country}\")\n",
    "    df = aggregate_data_monthly(country)"
   ]
  },
  {
   "cell_type": "code",
   "execution_count": 35,
   "metadata": {},
   "outputs": [
    {
     "name": "stderr",
     "output_type": "stream",
     "text": [
      "  0%|          | 0/39 [00:00<?, ?it/s]"
     ]
    },
    {
     "name": "stdout",
     "output_type": "stream",
     "text": [
      "Converting data for SI\n",
      "Converting data for DE\n"
     ]
    },
    {
     "name": "stderr",
     "output_type": "stream",
     "text": [
      "  5%|▌         | 2/39 [00:00<00:16,  2.26it/s]"
     ]
    },
    {
     "name": "stdout",
     "output_type": "stream",
     "text": [
      "Converting data for IS\n",
      "Converting data for XK\n",
      "Converting data for CH\n",
      "Converting data for AT\n"
     ]
    },
    {
     "name": "stderr",
     "output_type": "stream",
     "text": [
      " 28%|██▊       | 11/39 [00:01<00:02, 11.08it/s]"
     ]
    },
    {
     "name": "stdout",
     "output_type": "stream",
     "text": [
      "Converting data for DK\n",
      "Converting data for AL\n",
      "Converting data for HR\n",
      "Converting data for LU\n",
      "Converting data for SK\n",
      "Converting data for PL\n"
     ]
    },
    {
     "name": "stderr",
     "output_type": "stream",
     "text": [
      " 36%|███▌      | 14/39 [00:01<00:02,  9.19it/s]"
     ]
    },
    {
     "name": "stdout",
     "output_type": "stream",
     "text": [
      "Converting data for GB\n",
      "Converting data for IE\n",
      "Converting data for BA\n",
      "Converting data for BE\n"
     ]
    },
    {
     "name": "stderr",
     "output_type": "stream",
     "text": [
      " 41%|████      | 16/39 [00:01<00:02, 10.10it/s]"
     ]
    },
    {
     "name": "stdout",
     "output_type": "stream",
     "text": [
      "Converting data for TR\n"
     ]
    },
    {
     "name": "stderr",
     "output_type": "stream",
     "text": [
      " 46%|████▌     | 18/39 [00:02<00:02,  9.45it/s]"
     ]
    },
    {
     "name": "stdout",
     "output_type": "stream",
     "text": [
      "Converting data for LT\n",
      "Converting data for IT\n",
      "Converting data for ES\n"
     ]
    },
    {
     "name": "stderr",
     "output_type": "stream",
     "text": [
      " 56%|█████▋    | 22/39 [00:04<00:04,  3.93it/s]"
     ]
    },
    {
     "name": "stdout",
     "output_type": "stream",
     "text": [
      "Converting data for MT\n",
      "Converting data for RO\n",
      "Converting data for BG\n"
     ]
    },
    {
     "name": "stderr",
     "output_type": "stream",
     "text": [
      " 64%|██████▍   | 25/39 [00:04<00:02,  5.53it/s]"
     ]
    },
    {
     "name": "stdout",
     "output_type": "stream",
     "text": [
      "Converting data for RS\n",
      "Converting data for NL\n",
      "Converting data for CZ\n"
     ]
    },
    {
     "name": "stderr",
     "output_type": "stream",
     "text": [
      " 69%|██████▉   | 27/39 [00:04<00:02,  5.93it/s]"
     ]
    },
    {
     "name": "stdout",
     "output_type": "stream",
     "text": [
      "Converting data for PT\n",
      "Converting data for MK\n",
      "Converting data for SE\n",
      "Converting data for ME\n"
     ]
    },
    {
     "name": "stderr",
     "output_type": "stream",
     "text": [
      " 77%|███████▋  | 30/39 [00:04<00:01,  8.28it/s]"
     ]
    },
    {
     "name": "stdout",
     "output_type": "stream",
     "text": [
      "Converting data for FR\n"
     ]
    },
    {
     "name": "stderr",
     "output_type": "stream",
     "text": [
      " 95%|█████████▍| 37/39 [00:05<00:00,  9.69it/s]"
     ]
    },
    {
     "name": "stdout",
     "output_type": "stream",
     "text": [
      "Converting data for NO\n",
      "Converting data for LV\n",
      "Converting data for AD\n",
      "Converting data for CY\n",
      "Converting data for HU\n",
      "Converting data for GR\n",
      "Converting data for EE\n",
      "Converting data for FI\n"
     ]
    },
    {
     "name": "stderr",
     "output_type": "stream",
     "text": [
      "100%|██████████| 39/39 [00:05<00:00,  7.01it/s]\n"
     ]
    }
   ],
   "source": [
    "from tqdm import tqdm\n",
    "\n",
    "client = airbase.AirbaseClient()\n",
    "countries = client.countries\n",
    "\n",
    "# convert csv to json\n",
    "for country in tqdm(countries):\n",
    "    print(f\"Converting data for {country}\")\n",
    "    df = pd.read_csv(f\"../data/aggregated_air_quality_monthly/{country}.csv\", sep=\",\", low_memory=False)\n",
    "    \n",
    "    # Convert to JSON\n",
    "    df.to_json(f\"../data/aggregated_air_quality_monthly_json/{country}.json\", orient='records', lines=True)"
   ]
  },
  {
   "cell_type": "code",
   "execution_count": 44,
   "metadata": {},
   "outputs": [
    {
     "name": "stderr",
     "output_type": "stream",
     "text": [
      "  0%|          | 0/39 [00:00<?, ?it/s]"
     ]
    },
    {
     "name": "stdout",
     "output_type": "stream",
     "text": [
      "Converting data for SI\n",
      "Converting data for DE\n"
     ]
    },
    {
     "name": "stderr",
     "output_type": "stream",
     "text": [
      " 15%|█▌        | 6/39 [00:00<00:02, 12.79it/s]"
     ]
    },
    {
     "name": "stdout",
     "output_type": "stream",
     "text": [
      "Converting data for IS\n",
      "Converting data for XK\n",
      "Converting data for CH\n",
      "Converting data for AT\n",
      "Converting data for DK\n"
     ]
    },
    {
     "name": "stderr",
     "output_type": "stream",
     "text": [
      " 26%|██▌       | 10/39 [00:00<00:01, 18.80it/s]"
     ]
    },
    {
     "name": "stdout",
     "output_type": "stream",
     "text": [
      "Converting data for AL\n",
      "Converting data for HR\n",
      "Converting data for LU\n",
      "Converting data for SK\n",
      "Converting data for PL\n"
     ]
    },
    {
     "name": "stderr",
     "output_type": "stream",
     "text": [
      " 33%|███▎      | 13/39 [00:00<00:01, 15.50it/s]"
     ]
    },
    {
     "name": "stdout",
     "output_type": "stream",
     "text": [
      "Converting data for GB\n",
      "Converting data for IE\n",
      "Converting data for BA\n",
      "Converting data for BE\n"
     ]
    },
    {
     "name": "stderr",
     "output_type": "stream",
     "text": [
      " 46%|████▌     | 18/39 [00:01<00:01, 14.96it/s]"
     ]
    },
    {
     "name": "stdout",
     "output_type": "stream",
     "text": [
      "Converting data for TR\n",
      "Converting data for LT\n",
      "Converting data for IT\n",
      "Converting data for ES\n"
     ]
    },
    {
     "name": "stderr",
     "output_type": "stream",
     "text": [
      " 51%|█████▏    | 20/39 [00:02<00:02,  6.38it/s]"
     ]
    },
    {
     "name": "stdout",
     "output_type": "stream",
     "text": [
      "Converting data for MT\n",
      "Converting data for RO\n"
     ]
    },
    {
     "name": "stderr",
     "output_type": "stream",
     "text": [
      " 62%|██████▏   | 24/39 [00:02<00:01,  7.56it/s]"
     ]
    },
    {
     "name": "stdout",
     "output_type": "stream",
     "text": [
      "Converting data for BG\n",
      "Converting data for RS\n",
      "Converting data for NL\n"
     ]
    },
    {
     "name": "stderr",
     "output_type": "stream",
     "text": [
      " 67%|██████▋   | 26/39 [00:02<00:01,  7.42it/s]"
     ]
    },
    {
     "name": "stdout",
     "output_type": "stream",
     "text": [
      "Converting data for CZ\n",
      "Converting data for PT\n"
     ]
    },
    {
     "name": "stderr",
     "output_type": "stream",
     "text": [
      " 72%|███████▏  | 28/39 [00:03<00:01,  7.64it/s]"
     ]
    },
    {
     "name": "stdout",
     "output_type": "stream",
     "text": [
      "Converting data for MK\n",
      "Converting data for SE\n"
     ]
    },
    {
     "name": "stderr",
     "output_type": "stream",
     "text": [
      " 74%|███████▍  | 29/39 [00:03<00:01,  7.67it/s]"
     ]
    },
    {
     "name": "stdout",
     "output_type": "stream",
     "text": [
      "Converting data for ME\n",
      "Converting data for FR\n"
     ]
    },
    {
     "name": "stderr",
     "output_type": "stream",
     "text": [
      " 82%|████████▏ | 32/39 [00:03<00:01,  6.66it/s]"
     ]
    },
    {
     "name": "stdout",
     "output_type": "stream",
     "text": [
      "Converting data for NO\n",
      "Converting data for LV\n"
     ]
    },
    {
     "name": "stderr",
     "output_type": "stream",
     "text": [
      " 87%|████████▋ | 34/39 [00:03<00:00,  7.74it/s]"
     ]
    },
    {
     "name": "stdout",
     "output_type": "stream",
     "text": [
      "Converting data for AD\n",
      "Converting data for CY\n"
     ]
    },
    {
     "name": "stderr",
     "output_type": "stream",
     "text": [
      " 92%|█████████▏| 36/39 [00:04<00:00,  8.26it/s]"
     ]
    },
    {
     "name": "stdout",
     "output_type": "stream",
     "text": [
      "Converting data for HU\n",
      "Converting data for GR\n"
     ]
    },
    {
     "name": "stderr",
     "output_type": "stream",
     "text": [
      " 97%|█████████▋| 38/39 [00:04<00:00,  8.89it/s]"
     ]
    },
    {
     "name": "stdout",
     "output_type": "stream",
     "text": [
      "Converting data for EE\n",
      "Converting data for FI\n"
     ]
    },
    {
     "name": "stderr",
     "output_type": "stream",
     "text": [
      "100%|██████████| 39/39 [00:04<00:00,  8.83it/s]\n"
     ]
    },
    {
     "data": {
      "application/vnd.microsoft.datawrangler.viewer.v0+json": {
       "columns": [
        {
         "name": "index",
         "rawType": "int64",
         "type": "integer"
        },
        {
         "name": "Samplingpoint",
         "rawType": "object",
         "type": "string"
        },
        {
         "name": "PollutantCode",
         "rawType": "int64",
         "type": "integer"
        },
        {
         "name": "PollutantName",
         "rawType": "object",
         "type": "string"
        },
        {
         "name": "Month",
         "rawType": "object",
         "type": "string"
        },
        {
         "name": "Latitude",
         "rawType": "float64",
         "type": "float"
        },
        {
         "name": "Longitude",
         "rawType": "float64",
         "type": "float"
        },
        {
         "name": "Value",
         "rawType": "float64",
         "type": "float"
        },
        {
         "name": "Unit",
         "rawType": "object",
         "type": "string"
        },
        {
         "name": "Country",
         "rawType": "object",
         "type": "string"
        }
       ],
       "conversionMethod": "pd.DataFrame",
       "ref": "74dc6781-5783-47df-b252-f825459fa32a",
       "rows": [
        [
         "0",
         "SPO-SI0001A_00001_100",
         "1",
         "SO2",
         "2021-01-01",
         "46.23451",
         "15.26248",
         "3.0795295699",
         "ug.m-3",
         "Slovenia"
        ],
        [
         "1",
         "SPO-SI0001A_00001_100",
         "1",
         "SO2",
         "2021-02-01",
         "46.23451",
         "15.26248",
         "4.0908184524",
         "ug.m-3",
         "Slovenia"
        ],
        [
         "2",
         "SPO-SI0001A_00001_100",
         "1",
         "SO2",
         "2021-03-01",
         "46.23451",
         "15.26248",
         "4.2574193548",
         "ug.m-3",
         "Slovenia"
        ],
        [
         "3",
         "SPO-SI0001A_00001_100",
         "1",
         "SO2",
         "2021-04-01",
         "46.23451",
         "15.26248",
         "2.892125",
         "ug.m-3",
         "Slovenia"
        ],
        [
         "4",
         "SPO-SI0001A_00001_100",
         "1",
         "SO2",
         "2021-05-01",
         "46.23451",
         "15.26248",
         "2.1360483871",
         "ug.m-3",
         "Slovenia"
        ]
       ],
       "shape": {
        "columns": 9,
        "rows": 5
       }
      },
      "text/html": [
       "<div>\n",
       "<style scoped>\n",
       "    .dataframe tbody tr th:only-of-type {\n",
       "        vertical-align: middle;\n",
       "    }\n",
       "\n",
       "    .dataframe tbody tr th {\n",
       "        vertical-align: top;\n",
       "    }\n",
       "\n",
       "    .dataframe thead th {\n",
       "        text-align: right;\n",
       "    }\n",
       "</style>\n",
       "<table border=\"1\" class=\"dataframe\">\n",
       "  <thead>\n",
       "    <tr style=\"text-align: right;\">\n",
       "      <th></th>\n",
       "      <th>Samplingpoint</th>\n",
       "      <th>PollutantCode</th>\n",
       "      <th>PollutantName</th>\n",
       "      <th>Month</th>\n",
       "      <th>Latitude</th>\n",
       "      <th>Longitude</th>\n",
       "      <th>Value</th>\n",
       "      <th>Unit</th>\n",
       "      <th>Country</th>\n",
       "    </tr>\n",
       "  </thead>\n",
       "  <tbody>\n",
       "    <tr>\n",
       "      <th>0</th>\n",
       "      <td>SPO-SI0001A_00001_100</td>\n",
       "      <td>1</td>\n",
       "      <td>SO2</td>\n",
       "      <td>2021-01-01</td>\n",
       "      <td>46.23451</td>\n",
       "      <td>15.26248</td>\n",
       "      <td>3.079530</td>\n",
       "      <td>ug.m-3</td>\n",
       "      <td>Slovenia</td>\n",
       "    </tr>\n",
       "    <tr>\n",
       "      <th>1</th>\n",
       "      <td>SPO-SI0001A_00001_100</td>\n",
       "      <td>1</td>\n",
       "      <td>SO2</td>\n",
       "      <td>2021-02-01</td>\n",
       "      <td>46.23451</td>\n",
       "      <td>15.26248</td>\n",
       "      <td>4.090818</td>\n",
       "      <td>ug.m-3</td>\n",
       "      <td>Slovenia</td>\n",
       "    </tr>\n",
       "    <tr>\n",
       "      <th>2</th>\n",
       "      <td>SPO-SI0001A_00001_100</td>\n",
       "      <td>1</td>\n",
       "      <td>SO2</td>\n",
       "      <td>2021-03-01</td>\n",
       "      <td>46.23451</td>\n",
       "      <td>15.26248</td>\n",
       "      <td>4.257419</td>\n",
       "      <td>ug.m-3</td>\n",
       "      <td>Slovenia</td>\n",
       "    </tr>\n",
       "    <tr>\n",
       "      <th>3</th>\n",
       "      <td>SPO-SI0001A_00001_100</td>\n",
       "      <td>1</td>\n",
       "      <td>SO2</td>\n",
       "      <td>2021-04-01</td>\n",
       "      <td>46.23451</td>\n",
       "      <td>15.26248</td>\n",
       "      <td>2.892125</td>\n",
       "      <td>ug.m-3</td>\n",
       "      <td>Slovenia</td>\n",
       "    </tr>\n",
       "    <tr>\n",
       "      <th>4</th>\n",
       "      <td>SPO-SI0001A_00001_100</td>\n",
       "      <td>1</td>\n",
       "      <td>SO2</td>\n",
       "      <td>2021-05-01</td>\n",
       "      <td>46.23451</td>\n",
       "      <td>15.26248</td>\n",
       "      <td>2.136048</td>\n",
       "      <td>ug.m-3</td>\n",
       "      <td>Slovenia</td>\n",
       "    </tr>\n",
       "  </tbody>\n",
       "</table>\n",
       "</div>"
      ],
      "text/plain": [
       "           Samplingpoint  PollutantCode PollutantName       Month  Latitude  \\\n",
       "0  SPO-SI0001A_00001_100              1           SO2  2021-01-01  46.23451   \n",
       "1  SPO-SI0001A_00001_100              1           SO2  2021-02-01  46.23451   \n",
       "2  SPO-SI0001A_00001_100              1           SO2  2021-03-01  46.23451   \n",
       "3  SPO-SI0001A_00001_100              1           SO2  2021-04-01  46.23451   \n",
       "4  SPO-SI0001A_00001_100              1           SO2  2021-05-01  46.23451   \n",
       "\n",
       "   Longitude     Value    Unit   Country  \n",
       "0   15.26248  3.079530  ug.m-3  Slovenia  \n",
       "1   15.26248  4.090818  ug.m-3  Slovenia  \n",
       "2   15.26248  4.257419  ug.m-3  Slovenia  \n",
       "3   15.26248  2.892125  ug.m-3  Slovenia  \n",
       "4   15.26248  2.136048  ug.m-3  Slovenia  "
      ]
     },
     "execution_count": 44,
     "metadata": {},
     "output_type": "execute_result"
    }
   ],
   "source": [
    "# convert to single json\n",
    "\n",
    "df = pd.DataFrame()\n",
    "for country in tqdm(countries):\n",
    "    print(f\"Converting data for {country}\")\n",
    "    df_country = pd.read_csv(f\"../data/aggregated_air_quality_monthly/{country}.csv\", sep=\",\", low_memory=False)\n",
    "    \n",
    "    # Convert to JSON\n",
    "    df_country['Country'] = country_code_to_name[country]\n",
    "    df = pd.concat([df, df_country], ignore_index=True)\n",
    "df.to_json(f\"../data/aggregated_air_quality_monthly_json/all.json\", orient='records', lines=True)\n",
    "df = pd.read_json(f\"../data/aggregated_air_quality_monthly_json/all.json\", lines=True)\n",
    "\n",
    "df.head()"
   ]
  },
  {
   "cell_type": "code",
   "execution_count": 41,
   "metadata": {},
   "outputs": [
    {
     "name": "stdout",
     "output_type": "stream",
     "text": [
      "{'SI', 'DE', 'IS', 'XK', 'CH', 'AT', 'DK', 'AL', 'HR', 'LU', 'SK', 'PL', 'GB', 'IE', 'BA', 'BE', 'TR', 'LT', 'IT', 'ES', 'MT', 'RO', 'BG', 'RS', 'NL', 'CZ', 'PT', 'MK', 'SE', 'ME', 'FR', 'NO', 'LV', 'AD', 'CY', 'HU', 'GR', 'EE', 'FI'}\n"
     ]
    }
   ],
   "source": [
    "client = airbase.AirbaseClient()\n",
    "countries = client.countries\n",
    "print(set(countries))"
   ]
  },
  {
   "cell_type": "code",
   "execution_count": 11,
   "metadata": {},
   "outputs": [
    {
     "data": {
      "application/vnd.microsoft.datawrangler.viewer.v0+json": {
       "columns": [
        {
         "name": "index",
         "rawType": "int64",
         "type": "integer"
        },
        {
         "name": "Samplingpoint",
         "rawType": "object",
         "type": "string"
        },
        {
         "name": "PollutantCode",
         "rawType": "int64",
         "type": "integer"
        },
        {
         "name": "Date",
         "rawType": "object",
         "type": "string"
        },
        {
         "name": "Latitude",
         "rawType": "float64",
         "type": "float"
        },
        {
         "name": "Longitude",
         "rawType": "float64",
         "type": "float"
        },
        {
         "name": "Value",
         "rawType": "float64",
         "type": "float"
        },
        {
         "name": "Unit",
         "rawType": "object",
         "type": "string"
        },
        {
         "name": "PollutantName",
         "rawType": "object",
         "type": "string"
        }
       ],
       "conversionMethod": "pd.DataFrame",
       "ref": "ca7656ad-51b3-466d-8633-196a3f7826a1",
       "rows": [
        [
         "49515",
         "SPO.IT0448A_7_UV-P_1994-01-01_00:00:00",
         "7",
         "2014-01-01",
         "45.42944",
         "12.31389",
         "12.869565217391305",
         "ug.m-3",
         "O3"
        ],
        [
         "49516",
         "SPO.IT0448A_7_UV-P_1994-01-01_00:00:00",
         "7",
         "2014-01-02",
         "45.42944",
         "12.31389",
         "6.826086956521739",
         "ug.m-3",
         "O3"
        ],
        [
         "49517",
         "SPO.IT0448A_7_UV-P_1994-01-01_00:00:00",
         "7",
         "2014-01-03",
         "45.42944",
         "12.31389",
         "5.3478260869565215",
         "ug.m-3",
         "O3"
        ],
        [
         "49518",
         "SPO.IT0448A_7_UV-P_1994-01-01_00:00:00",
         "7",
         "2014-01-04",
         "45.42944",
         "12.31389",
         "12.0",
         "ug.m-3",
         "O3"
        ],
        [
         "49519",
         "SPO.IT0448A_7_UV-P_1994-01-01_00:00:00",
         "7",
         "2014-01-05",
         "45.42944",
         "12.31389",
         "15.217391304347826",
         "ug.m-3",
         "O3"
        ]
       ],
       "shape": {
        "columns": 8,
        "rows": 5
       }
      },
      "text/html": [
       "<div>\n",
       "<style scoped>\n",
       "    .dataframe tbody tr th:only-of-type {\n",
       "        vertical-align: middle;\n",
       "    }\n",
       "\n",
       "    .dataframe tbody tr th {\n",
       "        vertical-align: top;\n",
       "    }\n",
       "\n",
       "    .dataframe thead th {\n",
       "        text-align: right;\n",
       "    }\n",
       "</style>\n",
       "<table border=\"1\" class=\"dataframe\">\n",
       "  <thead>\n",
       "    <tr style=\"text-align: right;\">\n",
       "      <th></th>\n",
       "      <th>Samplingpoint</th>\n",
       "      <th>PollutantCode</th>\n",
       "      <th>Date</th>\n",
       "      <th>Latitude</th>\n",
       "      <th>Longitude</th>\n",
       "      <th>Value</th>\n",
       "      <th>Unit</th>\n",
       "      <th>PollutantName</th>\n",
       "    </tr>\n",
       "  </thead>\n",
       "  <tbody>\n",
       "    <tr>\n",
       "      <th>49515</th>\n",
       "      <td>SPO.IT0448A_7_UV-P_1994-01-01_00:00:00</td>\n",
       "      <td>7</td>\n",
       "      <td>2014-01-01</td>\n",
       "      <td>45.42944</td>\n",
       "      <td>12.31389</td>\n",
       "      <td>12.869565</td>\n",
       "      <td>ug.m-3</td>\n",
       "      <td>O3</td>\n",
       "    </tr>\n",
       "    <tr>\n",
       "      <th>49516</th>\n",
       "      <td>SPO.IT0448A_7_UV-P_1994-01-01_00:00:00</td>\n",
       "      <td>7</td>\n",
       "      <td>2014-01-02</td>\n",
       "      <td>45.42944</td>\n",
       "      <td>12.31389</td>\n",
       "      <td>6.826087</td>\n",
       "      <td>ug.m-3</td>\n",
       "      <td>O3</td>\n",
       "    </tr>\n",
       "    <tr>\n",
       "      <th>49517</th>\n",
       "      <td>SPO.IT0448A_7_UV-P_1994-01-01_00:00:00</td>\n",
       "      <td>7</td>\n",
       "      <td>2014-01-03</td>\n",
       "      <td>45.42944</td>\n",
       "      <td>12.31389</td>\n",
       "      <td>5.347826</td>\n",
       "      <td>ug.m-3</td>\n",
       "      <td>O3</td>\n",
       "    </tr>\n",
       "    <tr>\n",
       "      <th>49518</th>\n",
       "      <td>SPO.IT0448A_7_UV-P_1994-01-01_00:00:00</td>\n",
       "      <td>7</td>\n",
       "      <td>2014-01-04</td>\n",
       "      <td>45.42944</td>\n",
       "      <td>12.31389</td>\n",
       "      <td>12.000000</td>\n",
       "      <td>ug.m-3</td>\n",
       "      <td>O3</td>\n",
       "    </tr>\n",
       "    <tr>\n",
       "      <th>49519</th>\n",
       "      <td>SPO.IT0448A_7_UV-P_1994-01-01_00:00:00</td>\n",
       "      <td>7</td>\n",
       "      <td>2014-01-05</td>\n",
       "      <td>45.42944</td>\n",
       "      <td>12.31389</td>\n",
       "      <td>15.217391</td>\n",
       "      <td>ug.m-3</td>\n",
       "      <td>O3</td>\n",
       "    </tr>\n",
       "  </tbody>\n",
       "</table>\n",
       "</div>"
      ],
      "text/plain": [
       "                                Samplingpoint  PollutantCode        Date  \\\n",
       "49515  SPO.IT0448A_7_UV-P_1994-01-01_00:00:00              7  2014-01-01   \n",
       "49516  SPO.IT0448A_7_UV-P_1994-01-01_00:00:00              7  2014-01-02   \n",
       "49517  SPO.IT0448A_7_UV-P_1994-01-01_00:00:00              7  2014-01-03   \n",
       "49518  SPO.IT0448A_7_UV-P_1994-01-01_00:00:00              7  2014-01-04   \n",
       "49519  SPO.IT0448A_7_UV-P_1994-01-01_00:00:00              7  2014-01-05   \n",
       "\n",
       "       Latitude  Longitude      Value    Unit PollutantName  \n",
       "49515  45.42944   12.31389  12.869565  ug.m-3            O3  \n",
       "49516  45.42944   12.31389   6.826087  ug.m-3            O3  \n",
       "49517  45.42944   12.31389   5.347826  ug.m-3            O3  \n",
       "49518  45.42944   12.31389  12.000000  ug.m-3            O3  \n",
       "49519  45.42944   12.31389  15.217391  ug.m-3            O3  "
      ]
     },
     "execution_count": 11,
     "metadata": {},
     "output_type": "execute_result"
    }
   ],
   "source": [
    "df = pd.read_csv(f\"../data/aggregated_air_quality/IT.csv\", sep=\",\")\n",
    "\n",
    "# print just 2014 values\n",
    "df_2014 = df[(df['Date'] < '2015-01-01') & (df['Date'] >= '2014-01-01') & (df['PollutantCode'] == 7)]\n",
    "df_2014.head()"
   ]
  },
  {
   "cell_type": "code",
   "execution_count": 8,
   "metadata": {},
   "outputs": [
    {
     "name": "stdout",
     "output_type": "stream",
     "text": [
      "Reading data for BG\n",
      "Data read.\n",
      "Start length: 7994407 - End length: 460450\n"
     ]
    }
   ],
   "source": [
    "# Done: AD - AL - BA\n",
    "# Skipped: AT - BE\n",
    "df = aggregate_data('BG')"
   ]
  },
  {
   "cell_type": "code",
   "execution_count": null,
   "metadata": {},
   "outputs": [
    {
     "name": "stdout",
     "output_type": "stream",
     "text": [
      "Reading data for AD\n",
      "Data read.\n",
      "Start length: 1307509 - End length: 50601\n",
      "Aggregated data for AD saved.\n",
      "Reading data for AL\n",
      "Data read.\n",
      "Start length: 2322222 - End length: 96261\n",
      "Aggregated data for AL saved.\n",
      "Reading data for AT\n"
     ]
    }
   ],
   "source": [
    "for country in countries:\n",
    "    try:\n",
    "        df = aggregate_data(country)\n",
    "    except Exception as e:\n",
    "        print(f\"Error processing {country}: {e}\")\n",
    "        continue\n",
    "    print(f\"Aggregated data for {country} saved.\")"
   ]
  },
  {
   "cell_type": "code",
   "execution_count": 7,
   "metadata": {},
   "outputs": [],
   "source": [
    "import pandas as pd\n",
    "import plotly.express as px\n",
    "\n",
    "def draw_average_value_map(df: pd.DataFrame, output_html=\"air_quality_map.html\"):\n",
    "    \"\"\"\n",
    "    Draws a beautiful, web-optimized scatter map showing average 'Value' at each location.\n",
    "    Intended for use inside a webpage (HTML export, polished layout).\n",
    "\n",
    "    Args:\n",
    "        df (pd.DataFrame): Must contain 'Latitude', 'Longitude', and 'Value' columns.\n",
    "        output_html (str): Path to save the generated HTML.\n",
    "\n",
    "    Returns:\n",
    "        None\n",
    "    \"\"\"\n",
    "    # Aggregate values by location\n",
    "    grouped = df.groupby(['Latitude', 'Longitude'], as_index=False)['Value'].mean()\n",
    "\n",
    "    # Create scatter map with polished visual style\n",
    "    fig = px.scatter_mapbox(\n",
    "        grouped,\n",
    "        lat='Latitude',\n",
    "        lon='Longitude',\n",
    "        color='Value',\n",
    "        color_continuous_scale='Turbo',  # Vibrant but smooth gradient\n",
    "        size_max=12,\n",
    "        zoom=3.5,\n",
    "        mapbox_style=\"carto-positron\",  # Clean, neutral for web\n",
    "        title=\"Air Quality Index in Europe\",\n",
    "        height=600,\n",
    "    )\n",
    "\n",
    "    # Clean and centered layout\n",
    "    fig.update_layout(\n",
    "        title=dict(\n",
    "            text=\"Air Quality Index in Europe\",\n",
    "            x=0.5,\n",
    "            xanchor='center',\n",
    "            font=dict(size=22, family=\"Helvetica, Arial, sans-serif\", color=\"#333\")\n",
    "        ),\n",
    "        coloraxis_colorbar=dict(\n",
    "            title=\"AQI\",\n",
    "            title_side=\"right\",\n",
    "            ticks=\"outside\",\n",
    "            tickfont=dict(size=12),\n",
    "            #titlefont=dict(size=14),\n",
    "        ),\n",
    "        margin=dict(l=0, r=0, t=50, b=0),\n",
    "        paper_bgcolor='rgba(0,0,0,0)',\n",
    "        plot_bgcolor='rgba(0,0,0,0)',\n",
    "    )\n",
    "\n",
    "    # Export to standalone HTML (great for embedding in iframes)\n",
    "    fig.write_html(output_html, include_plotlyjs=\"cdn\", full_html=False)"
   ]
  },
  {
   "cell_type": "code",
   "execution_count": 8,
   "metadata": {},
   "outputs": [
    {
     "name": "stderr",
     "output_type": "stream",
     "text": [
      "/tmp/ipykernel_356092/52510619.py:20: DeprecationWarning: *scatter_mapbox* is deprecated! Use *scatter_map* instead. Learn more at: https://plotly.com/python/mapbox-to-maplibre/\n",
      "  fig = px.scatter_mapbox(\n"
     ]
    }
   ],
   "source": [
    "draw_average_value_map(df, output_html=\"heatmap.html\")"
   ]
  },
  {
   "cell_type": "code",
   "execution_count": 4,
   "metadata": {},
   "outputs": [
    {
     "name": "stdout",
     "output_type": "stream",
     "text": [
      "           Samplingpoint  PollutantCode PollutantName       Month  Latitude  \\\n",
      "0  SPO-SI0001A_00001_100              1           SO2  2021-01-01  46.23451   \n",
      "1  SPO-SI0001A_00001_100              1           SO2  2021-02-01  46.23451   \n",
      "2  SPO-SI0001A_00001_100              1           SO2  2021-03-01  46.23451   \n",
      "3  SPO-SI0001A_00001_100              1           SO2  2021-04-01  46.23451   \n",
      "4  SPO-SI0001A_00001_100              1           SO2  2021-05-01  46.23451   \n",
      "\n",
      "   Longitude     Value    Unit   Country  \n",
      "0   15.26248  3.079530  ug.m-3  Slovenia  \n",
      "1   15.26248  4.090818  ug.m-3  Slovenia  \n",
      "2   15.26248  4.257419  ug.m-3  Slovenia  \n",
      "3   15.26248  2.892125  ug.m-3  Slovenia  \n",
      "4   15.26248  2.136048  ug.m-3  Slovenia  \n"
     ]
    }
   ],
   "source": [
    "df = pd.read_json(f\"../data/aggregated_air_quality_monthly_json/all.json\", lines=True)\n",
    "print(df.head())"
   ]
  },
  {
   "cell_type": "code",
   "execution_count": 11,
   "metadata": {},
   "outputs": [
    {
     "data": {
      "application/vnd.microsoft.datawrangler.viewer.v0+json": {
       "columns": [
        {
         "name": "index",
         "rawType": "int64",
         "type": "integer"
        },
        {
         "name": "Year",
         "rawType": "int32",
         "type": "integer"
        },
        {
         "name": "Samplingpoint",
         "rawType": "object",
         "type": "string"
        },
        {
         "name": "PollutantName",
         "rawType": "object",
         "type": "string"
        },
        {
         "name": "Country",
         "rawType": "object",
         "type": "string"
        },
        {
         "name": "avg_value",
         "rawType": "float64",
         "type": "float"
        },
        {
         "name": "Unit",
         "rawType": "object",
         "type": "string"
        },
        {
         "name": "Latitude",
         "rawType": "float64",
         "type": "float"
        },
        {
         "name": "Longitude",
         "rawType": "float64",
         "type": "float"
        }
       ],
       "conversionMethod": "pd.DataFrame",
       "ref": "81850c22-ecf9-438f-a7ce-c16809644bc9",
       "rows": [
        [
         "0",
         "1990",
         "SPO.04.S156.3945.1.1",
         "SO2",
         "Austria",
         "5.385017707783334",
         "ug.m-3",
         "48.25747",
         "13.03923"
        ],
        [
         "1",
         "1990",
         "SPO.04.S156.3950.7.1",
         "O3",
         "Austria",
         "0.0",
         "ug.m-3",
         "48.25747",
         "13.03923"
        ],
        [
         "2",
         "1990",
         "SPO.04.S173.56394.8.1",
         "NO2",
         "Austria",
         "42.83524340554167",
         "ug.m-3",
         "48.27975",
         "14.3665"
        ],
        [
         "3",
         "1990",
         "SPO.04.S173.56395.1.1",
         "SO2",
         "Austria",
         "11.854724169016668",
         "ug.m-3",
         "48.27975",
         "14.3665"
        ],
        [
         "4",
         "1990",
         "SPO.06.119.4942.1.1",
         "SO2",
         "Austria",
         "18.019246565116667",
         "ug.m-3",
         "47.21037",
         "14.82528"
        ]
       ],
       "shape": {
        "columns": 8,
        "rows": 5
       }
      },
      "text/html": [
       "<div>\n",
       "<style scoped>\n",
       "    .dataframe tbody tr th:only-of-type {\n",
       "        vertical-align: middle;\n",
       "    }\n",
       "\n",
       "    .dataframe tbody tr th {\n",
       "        vertical-align: top;\n",
       "    }\n",
       "\n",
       "    .dataframe thead th {\n",
       "        text-align: right;\n",
       "    }\n",
       "</style>\n",
       "<table border=\"1\" class=\"dataframe\">\n",
       "  <thead>\n",
       "    <tr style=\"text-align: right;\">\n",
       "      <th></th>\n",
       "      <th>Year</th>\n",
       "      <th>Samplingpoint</th>\n",
       "      <th>PollutantName</th>\n",
       "      <th>Country</th>\n",
       "      <th>avg_value</th>\n",
       "      <th>Unit</th>\n",
       "      <th>Latitude</th>\n",
       "      <th>Longitude</th>\n",
       "    </tr>\n",
       "  </thead>\n",
       "  <tbody>\n",
       "    <tr>\n",
       "      <th>0</th>\n",
       "      <td>1990</td>\n",
       "      <td>SPO.04.S156.3945.1.1</td>\n",
       "      <td>SO2</td>\n",
       "      <td>Austria</td>\n",
       "      <td>5.385018</td>\n",
       "      <td>ug.m-3</td>\n",
       "      <td>48.25747</td>\n",
       "      <td>13.03923</td>\n",
       "    </tr>\n",
       "    <tr>\n",
       "      <th>1</th>\n",
       "      <td>1990</td>\n",
       "      <td>SPO.04.S156.3950.7.1</td>\n",
       "      <td>O3</td>\n",
       "      <td>Austria</td>\n",
       "      <td>0.000000</td>\n",
       "      <td>ug.m-3</td>\n",
       "      <td>48.25747</td>\n",
       "      <td>13.03923</td>\n",
       "    </tr>\n",
       "    <tr>\n",
       "      <th>2</th>\n",
       "      <td>1990</td>\n",
       "      <td>SPO.04.S173.56394.8.1</td>\n",
       "      <td>NO2</td>\n",
       "      <td>Austria</td>\n",
       "      <td>42.835243</td>\n",
       "      <td>ug.m-3</td>\n",
       "      <td>48.27975</td>\n",
       "      <td>14.36650</td>\n",
       "    </tr>\n",
       "    <tr>\n",
       "      <th>3</th>\n",
       "      <td>1990</td>\n",
       "      <td>SPO.04.S173.56395.1.1</td>\n",
       "      <td>SO2</td>\n",
       "      <td>Austria</td>\n",
       "      <td>11.854724</td>\n",
       "      <td>ug.m-3</td>\n",
       "      <td>48.27975</td>\n",
       "      <td>14.36650</td>\n",
       "    </tr>\n",
       "    <tr>\n",
       "      <th>4</th>\n",
       "      <td>1990</td>\n",
       "      <td>SPO.06.119.4942.1.1</td>\n",
       "      <td>SO2</td>\n",
       "      <td>Austria</td>\n",
       "      <td>18.019247</td>\n",
       "      <td>ug.m-3</td>\n",
       "      <td>47.21037</td>\n",
       "      <td>14.82528</td>\n",
       "    </tr>\n",
       "  </tbody>\n",
       "</table>\n",
       "</div>"
      ],
      "text/plain": [
       "   Year          Samplingpoint PollutantName  Country  avg_value    Unit  \\\n",
       "0  1990   SPO.04.S156.3945.1.1           SO2  Austria   5.385018  ug.m-3   \n",
       "1  1990   SPO.04.S156.3950.7.1            O3  Austria   0.000000  ug.m-3   \n",
       "2  1990  SPO.04.S173.56394.8.1           NO2  Austria  42.835243  ug.m-3   \n",
       "3  1990  SPO.04.S173.56395.1.1           SO2  Austria  11.854724  ug.m-3   \n",
       "4  1990    SPO.06.119.4942.1.1           SO2  Austria  18.019247  ug.m-3   \n",
       "\n",
       "   Latitude  Longitude  \n",
       "0  48.25747   13.03923  \n",
       "1  48.25747   13.03923  \n",
       "2  48.27975   14.36650  \n",
       "3  48.27975   14.36650  \n",
       "4  47.21037   14.82528  "
      ]
     },
     "metadata": {},
     "output_type": "display_data"
    }
   ],
   "source": [
    "import pandas as pd\n",
    "import json\n",
    "\n",
    "df['Month'] = pd.to_datetime(df['Month'])\n",
    "df['Year'] = df['Month'].dt.year\n",
    "\n",
    "grouped = df.groupby(['Year', 'Samplingpoint', 'PollutantName', 'Country'], as_index=False).agg(\n",
    "    avg_value=('Value', 'mean'),\n",
    "    Unit=('Unit', 'first'),\n",
    "    Latitude=('Latitude', 'first'),\n",
    "    Longitude=('Longitude', 'first')\n",
    ")\n",
    "\n",
    "display(grouped.head())\n",
    "\n",
    "grouped['avg_value'] = grouped['avg_value'].round(4)\n",
    "result = {}\n",
    "\n",
    "for _, row in grouped.iterrows():\n",
    "    year = str(row['Year'])\n",
    "    pollutant = row['PollutantName']\n",
    "    samplingpoint = row['Samplingpoint']\n",
    "    country = row['Country']\n",
    "    value = row['avg_value']\n",
    "    unit = row['Unit']\n",
    "    longitude = row['Longitude']\n",
    "    latitude = row['Latitude']\n",
    "\n",
    "    if year not in result:\n",
    "        result[year] = {}\n",
    "    if pollutant not in result[year]:\n",
    "        result[year][pollutant] = {}\n",
    "    if country not in result[year][pollutant]:\n",
    "        result[year][pollutant][country] = []\n",
    "\n",
    "    result[year][pollutant][country].append({\n",
    "        \"Country\": country,\n",
    "        \"Samplingpoint\": samplingpoint, \n",
    "        \"Concentration\": value,\n",
    "        \"Unit\": unit,\n",
    "        \"Longitude\": longitude,\n",
    "        \"Latitude\": latitude,\n",
    "    })\n",
    "\n",
    "with open(\"../data/aggregated_air_quality_yearly_json/all.json\", \"w\") as f:\n",
    "    json.dump(result, f, indent=2)\n"
   ]
  },
  {
   "cell_type": "code",
   "execution_count": null,
   "metadata": {},
   "outputs": [
    {
     "data": {
      "application/vnd.microsoft.datawrangler.viewer.v0+json": {
       "columns": [
        {
         "name": "index",
         "rawType": "int64",
         "type": "integer"
        },
        {
         "name": "Year",
         "rawType": "int64",
         "type": "integer"
        },
        {
         "name": "Pollutant",
         "rawType": "object",
         "type": "string"
        },
        {
         "name": "Country",
         "rawType": "object",
         "type": "string"
        },
        {
         "name": "Samplingpoint",
         "rawType": "object",
         "type": "string"
        },
        {
         "name": "Concentration",
         "rawType": "float64",
         "type": "float"
        },
        {
         "name": "Unit",
         "rawType": "object",
         "type": "string"
        },
        {
         "name": "Longitude",
         "rawType": "float64",
         "type": "float"
        },
        {
         "name": "Latitude",
         "rawType": "float64",
         "type": "float"
        }
       ],
       "conversionMethod": "pd.DataFrame",
       "ref": "ebf5c0b5-cb08-44e8-ac5c-1485ea9a9184",
       "rows": [
        [
         "0",
         "1990",
         "SO2",
         "Austria",
         "SPO.04.S156.3945.1.1",
         "5.385",
         "ug.m-3",
         "13.03923",
         "48.25747"
        ],
        [
         "1",
         "1990",
         "SO2",
         "Austria",
         "SPO.04.S173.56395.1.1",
         "11.8547",
         "ug.m-3",
         "14.3665",
         "48.27975"
        ],
        [
         "2",
         "1990",
         "SO2",
         "Austria",
         "SPO.06.119.4942.1.1",
         "18.0192",
         "ug.m-3",
         "14.82528",
         "47.21037"
        ],
        [
         "3",
         "1990",
         "SO2",
         "Austria",
         "SPO.06.156.1813.1.1",
         "5.8418",
         "ug.m-3",
         "15.88222",
         "47.34806"
        ],
        [
         "4",
         "1990",
         "SO2",
         "Austria",
         "SPO.06.170.5937.1.1",
         "16.317",
         "ug.m-3",
         "15.43308",
         "47.04172"
        ]
       ],
       "shape": {
        "columns": 8,
        "rows": 5
       }
      },
      "text/html": [
       "<div>\n",
       "<style scoped>\n",
       "    .dataframe tbody tr th:only-of-type {\n",
       "        vertical-align: middle;\n",
       "    }\n",
       "\n",
       "    .dataframe tbody tr th {\n",
       "        vertical-align: top;\n",
       "    }\n",
       "\n",
       "    .dataframe thead th {\n",
       "        text-align: right;\n",
       "    }\n",
       "</style>\n",
       "<table border=\"1\" class=\"dataframe\">\n",
       "  <thead>\n",
       "    <tr style=\"text-align: right;\">\n",
       "      <th></th>\n",
       "      <th>Year</th>\n",
       "      <th>Pollutant</th>\n",
       "      <th>Country</th>\n",
       "      <th>Samplingpoint</th>\n",
       "      <th>Concentration</th>\n",
       "      <th>Unit</th>\n",
       "      <th>Longitude</th>\n",
       "      <th>Latitude</th>\n",
       "    </tr>\n",
       "  </thead>\n",
       "  <tbody>\n",
       "    <tr>\n",
       "      <th>0</th>\n",
       "      <td>1990</td>\n",
       "      <td>SO2</td>\n",
       "      <td>Austria</td>\n",
       "      <td>SPO.04.S156.3945.1.1</td>\n",
       "      <td>5.3850</td>\n",
       "      <td>ug.m-3</td>\n",
       "      <td>13.03923</td>\n",
       "      <td>48.25747</td>\n",
       "    </tr>\n",
       "    <tr>\n",
       "      <th>1</th>\n",
       "      <td>1990</td>\n",
       "      <td>SO2</td>\n",
       "      <td>Austria</td>\n",
       "      <td>SPO.04.S173.56395.1.1</td>\n",
       "      <td>11.8547</td>\n",
       "      <td>ug.m-3</td>\n",
       "      <td>14.36650</td>\n",
       "      <td>48.27975</td>\n",
       "    </tr>\n",
       "    <tr>\n",
       "      <th>2</th>\n",
       "      <td>1990</td>\n",
       "      <td>SO2</td>\n",
       "      <td>Austria</td>\n",
       "      <td>SPO.06.119.4942.1.1</td>\n",
       "      <td>18.0192</td>\n",
       "      <td>ug.m-3</td>\n",
       "      <td>14.82528</td>\n",
       "      <td>47.21037</td>\n",
       "    </tr>\n",
       "    <tr>\n",
       "      <th>3</th>\n",
       "      <td>1990</td>\n",
       "      <td>SO2</td>\n",
       "      <td>Austria</td>\n",
       "      <td>SPO.06.156.1813.1.1</td>\n",
       "      <td>5.8418</td>\n",
       "      <td>ug.m-3</td>\n",
       "      <td>15.88222</td>\n",
       "      <td>47.34806</td>\n",
       "    </tr>\n",
       "    <tr>\n",
       "      <th>4</th>\n",
       "      <td>1990</td>\n",
       "      <td>SO2</td>\n",
       "      <td>Austria</td>\n",
       "      <td>SPO.06.170.5937.1.1</td>\n",
       "      <td>16.3170</td>\n",
       "      <td>ug.m-3</td>\n",
       "      <td>15.43308</td>\n",
       "      <td>47.04172</td>\n",
       "    </tr>\n",
       "  </tbody>\n",
       "</table>\n",
       "</div>"
      ],
      "text/plain": [
       "   Year Pollutant  Country          Samplingpoint  Concentration    Unit  \\\n",
       "0  1990       SO2  Austria   SPO.04.S156.3945.1.1         5.3850  ug.m-3   \n",
       "1  1990       SO2  Austria  SPO.04.S173.56395.1.1        11.8547  ug.m-3   \n",
       "2  1990       SO2  Austria    SPO.06.119.4942.1.1        18.0192  ug.m-3   \n",
       "3  1990       SO2  Austria    SPO.06.156.1813.1.1         5.8418  ug.m-3   \n",
       "4  1990       SO2  Austria    SPO.06.170.5937.1.1        16.3170  ug.m-3   \n",
       "\n",
       "   Longitude  Latitude  \n",
       "0   13.03923  48.25747  \n",
       "1   14.36650  48.27975  \n",
       "2   14.82528  47.21037  \n",
       "3   15.88222  47.34806  \n",
       "4   15.43308  47.04172  "
      ]
     },
     "metadata": {},
     "output_type": "display_data"
    }
   ],
   "source": [
    "import json\n",
    "import pandas as pd\n",
    "\n",
    "# Load the nested JSON\n",
    "with open(\"../data/aggregated_air_quality_yearly_json/all.json\", \"r\") as f:\n",
    "    data = json.load(f)\n",
    "\n",
    "# Flatten it manually\n",
    "rows = []\n",
    "for year, year_data in data.items():\n",
    "    for pollutant, pollutant_data in year_data.items():\n",
    "        for country, records in pollutant_data.items():\n",
    "            for record in records:\n",
    "                flat_record = {\n",
    "                    \"Year\": int(year),\n",
    "                    \"Pollutant\": pollutant,\n",
    "                    \"Country\": country,\n",
    "                    **record  # includes Samplingpoint, Concentration, Latitude, Longitude, etc.\n",
    "                }\n",
    "                rows.append(flat_record)\n",
    "\n",
    "# Create DataFrame\n",
    "df = pd.DataFrame(rows)\n",
    "\n",
    "# Optional: inspect\n",
    "display(df.head())"
   ]
  },
  {
   "cell_type": "code",
   "execution_count": null,
   "metadata": {},
   "outputs": [],
   "source": []
  }
 ],
 "metadata": {
  "kernelspec": {
   "display_name": "dataviz",
   "language": "python",
   "name": "python3"
  },
  "language_info": {
   "codemirror_mode": {
    "name": "ipython",
    "version": 3
   },
   "file_extension": ".py",
   "mimetype": "text/x-python",
   "name": "python",
   "nbconvert_exporter": "python",
   "pygments_lexer": "ipython3",
   "version": "3.13.2"
  }
 },
 "nbformat": 4,
 "nbformat_minor": 2
}
